{
 "cells": [
  {
   "cell_type": "markdown",
   "id": "532a9800-f7a6-418a-8b14-3f7967fd29d7",
   "metadata": {},
   "source": [
    "<a href=\"https://colab.research.google.com/github/IGARDS/structured_artificial/blob/main/notebooks/structured_artificial.ipynb\" target=\"_parent\"><img src=\"https://colab.research.google.com/assets/colab-badge.svg\" alt=\"Open In Colab\"/></a>"
   ]
  },
  {
   "cell_type": "markdown",
   "id": "automated-kentucky",
   "metadata": {
    "id": "automated-kentucky"
   },
   "source": [
    "# Create Artificial Structured Datasets\n",
    "\n",
    "The purpose of this notebook is to provide illustrative examples of artificial ranking datasets. Please feel free to use as is or modify. For questions, suggestions, and discussions please visit: https://github.com/IGARDS/RPLib/discussions. \n",
    "\n",
    "## Overview\n",
    "This notebook contains several functions designed to construct structured graphs\n",
    "with increasing noise. The motivation of these datasets are to study the correlation between these datasets and rankability measures."
   ]
  },
  {
   "cell_type": "code",
   "execution_count": 3,
   "id": "1b6c4ab1-3f5d-4c87-be5a-e4b198ebdf83",
   "metadata": {},
   "outputs": [],
   "source": [
    "RPLIB_DATA_PREFIX='https://raw.githubusercontent.com/IGARDS/RPLib/main/data'"
   ]
  },
  {
   "cell_type": "code",
   "execution_count": 4,
   "id": "8afPYd4gkwBM",
   "metadata": {
    "cellView": "form",
    "colab": {
     "base_uri": "https://localhost:8080/"
    },
    "id": "8afPYd4gkwBM",
    "outputId": "be7cafe6-ee0f-4153-f9b6-1b7a31902df8"
   },
   "outputs": [
    {
     "name": "stdout",
     "output_type": "stream",
     "text": [
      "Imported preinstalled pyrankability and pyrplib\n"
     ]
    }
   ],
   "source": [
    "#@title Includes and Dependencies\n",
    "from IPython.display import display, Markdown, Latex\n",
    "try:\n",
    "    import pyrankability as pyrankability\n",
    "    import pyrplib as pyrplib\n",
    "    print('Imported preinstalled pyrankability and pyrplib')\n",
    "except:\n",
    "    try:\n",
    "        import sys\n",
    "        sys.path.insert(0,f\"{RPLIB_DATA_PREFIX}/../../ranking_toolbox\") \n",
    "        sys.path.insert(0,f\"{RPLIB_DATA_PREFIX}/..\")  \n",
    "        import pyrankability\n",
    "        import pyrplib\n",
    "        print('Imported pyrankability and pyrplib relative to RPLIB_DATA_PREFIX')\n",
    "    except:\n",
    "        try:\n",
    "            sys.path.insert(0,f\"../ranking_toolbox\") \n",
    "            sys.path.insert(0,f\"../RPLib\")  \n",
    "            import pyrankability\n",
    "            import pyrplib\n",
    "            print('Imported pyrankability and pyrplib relative to current directory')\n",
    "        except:\n",
    "            print('Assuming colab')\n",
    "            !apt install libgraphviz-dev\n",
    "            !pip install pyrankability\n",
    "            !pip install pyrplib\n",
    "            import pyrankability\n",
    "            import pyrplib\n",
    "            print('Installed and imported pyrankability and pyrplib')\n",
    "\n",
    "from pyrplib.artificial import *"
   ]
  },
  {
   "cell_type": "markdown",
   "id": "xO-pH_JMnoBY",
   "metadata": {
    "id": "xO-pH_JMnoBY"
   },
   "source": [
    "## Single use examples"
   ]
  },
  {
   "cell_type": "markdown",
   "id": "cz1Aj7Y5oJ7L",
   "metadata": {
    "id": "cz1Aj7Y5oJ7L"
   },
   "source": [
    "### EMPTY + NOISE"
   ]
  },
  {
   "cell_type": "code",
   "execution_count": 5,
   "id": "2CqOz14cniqF",
   "metadata": {
    "colab": {
     "base_uri": "https://localhost:8080/"
    },
    "id": "2CqOz14cniqF",
    "outputId": "6a14492e-057b-4b56-a105-b81da7ec9b4f"
   },
   "outputs": [
    {
     "name": "stdout",
     "output_type": "stream",
     "text": [
      "Help on function emptyplusnoise in module pyrplib.artificial:\n",
      "\n",
      "emptyplusnoise(n, percentnoise, low=0, high=3)\n",
      "    EMPTY + NOISE\n",
      "    \n",
      "    Function starts with an empty graph and adds some amount of noise.\n",
      "    \n",
      "    Input: n = number of rows/cols in D matrix\n",
      "    percentnoise = integer between 1 and n^2 representing the\n",
      "    percentage of noise to add to D hillside, e.g., \n",
      "    if percentnoise = 10, then 10% of the n^2 elements will be noise\n",
      "    \n",
      "    Example: 'D = emptyplusnoise(6,20)' creates a 6 by 6 matrix with 20% noise\n",
      "    added to the empty graph\n",
      "\n"
     ]
    }
   ],
   "source": [
    "help(emptyplusnoise)"
   ]
  },
  {
   "cell_type": "code",
   "execution_count": 6,
   "id": "Z1XHPkYclbdr",
   "metadata": {
    "colab": {
     "base_uri": "https://localhost:8080/",
     "height": 206
    },
    "id": "Z1XHPkYclbdr",
    "outputId": "82ca9858-c360-444d-f438-e85f86a653a3"
   },
   "outputs": [
    {
     "data": {
      "text/html": [
       "<div>\n",
       "<style scoped>\n",
       "    .dataframe tbody tr th:only-of-type {\n",
       "        vertical-align: middle;\n",
       "    }\n",
       "\n",
       "    .dataframe tbody tr th {\n",
       "        vertical-align: top;\n",
       "    }\n",
       "\n",
       "    .dataframe thead th {\n",
       "        text-align: right;\n",
       "    }\n",
       "</style>\n",
       "<table border=\"1\" class=\"dataframe\">\n",
       "  <thead>\n",
       "    <tr style=\"text-align: right;\">\n",
       "      <th></th>\n",
       "      <th>0</th>\n",
       "      <th>1</th>\n",
       "      <th>2</th>\n",
       "      <th>3</th>\n",
       "      <th>4</th>\n",
       "    </tr>\n",
       "  </thead>\n",
       "  <tbody>\n",
       "    <tr>\n",
       "      <th>0</th>\n",
       "      <td>0</td>\n",
       "      <td>0</td>\n",
       "      <td>0</td>\n",
       "      <td>0</td>\n",
       "      <td>0</td>\n",
       "    </tr>\n",
       "    <tr>\n",
       "      <th>1</th>\n",
       "      <td>0</td>\n",
       "      <td>0</td>\n",
       "      <td>0</td>\n",
       "      <td>0</td>\n",
       "      <td>0</td>\n",
       "    </tr>\n",
       "    <tr>\n",
       "      <th>2</th>\n",
       "      <td>2</td>\n",
       "      <td>4</td>\n",
       "      <td>0</td>\n",
       "      <td>0</td>\n",
       "      <td>0</td>\n",
       "    </tr>\n",
       "    <tr>\n",
       "      <th>3</th>\n",
       "      <td>0</td>\n",
       "      <td>3</td>\n",
       "      <td>0</td>\n",
       "      <td>0</td>\n",
       "      <td>0</td>\n",
       "    </tr>\n",
       "    <tr>\n",
       "      <th>4</th>\n",
       "      <td>0</td>\n",
       "      <td>4</td>\n",
       "      <td>0</td>\n",
       "      <td>0</td>\n",
       "      <td>0</td>\n",
       "    </tr>\n",
       "  </tbody>\n",
       "</table>\n",
       "</div>"
      ],
      "text/plain": [
       "   0  1  2  3  4\n",
       "0  0  0  0  0  0\n",
       "1  0  0  0  0  0\n",
       "2  2  4  0  0  0\n",
       "3  0  3  0  0  0\n",
       "4  0  4  0  0  0"
      ]
     },
     "execution_count": 6,
     "metadata": {},
     "output_type": "execute_result"
    }
   ],
   "source": [
    "emptyplusnoise(5,20,2,4)"
   ]
  },
  {
   "cell_type": "markdown",
   "id": "NlU0D5t8QaKR",
   "metadata": {
    "id": "NlU0D5t8QaKR"
   },
   "source": [
    "### HILLSIDE + NOISE"
   ]
  },
  {
   "cell_type": "code",
   "execution_count": 7,
   "id": "6VPNbGJSpXr-",
   "metadata": {
    "colab": {
     "base_uri": "https://localhost:8080/"
    },
    "id": "6VPNbGJSpXr-",
    "outputId": "776cec27-9abe-498f-e5ce-059404490d65"
   },
   "outputs": [
    {
     "name": "stdout",
     "output_type": "stream",
     "text": [
      "Help on function hillsideplusnoise in module pyrplib.artificial:\n",
      "\n",
      "hillsideplusnoise(n, percentnoise, low=1, high=5)\n",
      "    HILLSIDE + NOISE\n",
      "    \n",
      "    Starts with a perfect hillside graph and then randomly perturbs the matrix at user specified percentage. \n",
      "    \n",
      "    Input: n = number of rows/cols in D matrix\n",
      "          percentnoise = integer between 1 and n^2 representing the\n",
      "                        percentage of noise to add to D hillside, e.g., \n",
      "                        if percentnoise = 10, then 10% of the n^2\n",
      "                        elements will be noise\n",
      "    Example: 'D = hillsideplusnoise(6,20)' creates a 6 by 6 matrix with 20% noise\n",
      "              added to the hillside graph\n",
      "\n"
     ]
    }
   ],
   "source": [
    "help(hillsideplusnoise)"
   ]
  },
  {
   "cell_type": "code",
   "execution_count": 8,
   "id": "GfDGk3YDpfUd",
   "metadata": {
    "colab": {
     "base_uri": "https://localhost:8080/",
     "height": 237
    },
    "id": "GfDGk3YDpfUd",
    "outputId": "d6443624-2d2f-4328-8225-e4ccd52cf29b"
   },
   "outputs": [
    {
     "data": {
      "text/html": [
       "<div>\n",
       "<style scoped>\n",
       "    .dataframe tbody tr th:only-of-type {\n",
       "        vertical-align: middle;\n",
       "    }\n",
       "\n",
       "    .dataframe tbody tr th {\n",
       "        vertical-align: top;\n",
       "    }\n",
       "\n",
       "    .dataframe thead th {\n",
       "        text-align: right;\n",
       "    }\n",
       "</style>\n",
       "<table border=\"1\" class=\"dataframe\">\n",
       "  <thead>\n",
       "    <tr style=\"text-align: right;\">\n",
       "      <th></th>\n",
       "      <th>0</th>\n",
       "      <th>1</th>\n",
       "      <th>2</th>\n",
       "      <th>3</th>\n",
       "      <th>4</th>\n",
       "      <th>5</th>\n",
       "    </tr>\n",
       "  </thead>\n",
       "  <tbody>\n",
       "    <tr>\n",
       "      <th>0</th>\n",
       "      <td>0</td>\n",
       "      <td>4</td>\n",
       "      <td>2</td>\n",
       "      <td>3</td>\n",
       "      <td>4</td>\n",
       "      <td>5</td>\n",
       "    </tr>\n",
       "    <tr>\n",
       "      <th>1</th>\n",
       "      <td>0</td>\n",
       "      <td>0</td>\n",
       "      <td>5</td>\n",
       "      <td>1</td>\n",
       "      <td>3</td>\n",
       "      <td>4</td>\n",
       "    </tr>\n",
       "    <tr>\n",
       "      <th>2</th>\n",
       "      <td>5</td>\n",
       "      <td>0</td>\n",
       "      <td>0</td>\n",
       "      <td>3</td>\n",
       "      <td>1</td>\n",
       "      <td>3</td>\n",
       "    </tr>\n",
       "    <tr>\n",
       "      <th>3</th>\n",
       "      <td>3</td>\n",
       "      <td>0</td>\n",
       "      <td>0</td>\n",
       "      <td>0</td>\n",
       "      <td>2</td>\n",
       "      <td>1</td>\n",
       "    </tr>\n",
       "    <tr>\n",
       "      <th>4</th>\n",
       "      <td>0</td>\n",
       "      <td>3</td>\n",
       "      <td>5</td>\n",
       "      <td>0</td>\n",
       "      <td>0</td>\n",
       "      <td>1</td>\n",
       "    </tr>\n",
       "    <tr>\n",
       "      <th>5</th>\n",
       "      <td>0</td>\n",
       "      <td>0</td>\n",
       "      <td>0</td>\n",
       "      <td>0</td>\n",
       "      <td>0</td>\n",
       "      <td>0</td>\n",
       "    </tr>\n",
       "  </tbody>\n",
       "</table>\n",
       "</div>"
      ],
      "text/plain": [
       "   0  1  2  3  4  5\n",
       "0  0  4  2  3  4  5\n",
       "1  0  0  5  1  3  4\n",
       "2  5  0  0  3  1  3\n",
       "3  3  0  0  0  2  1\n",
       "4  0  3  5  0  0  1\n",
       "5  0  0  0  0  0  0"
      ]
     },
     "execution_count": 8,
     "metadata": {},
     "output_type": "execute_result"
    }
   ],
   "source": [
    "hillsideplusnoise(6, 50)"
   ]
  },
  {
   "cell_type": "markdown",
   "id": "eoAlL-hDQl0P",
   "metadata": {
    "id": "eoAlL-hDQl0P"
   },
   "source": [
    "### DOM + NOISE"
   ]
  },
  {
   "cell_type": "code",
   "execution_count": 9,
   "id": "PTz2RQUesb7r",
   "metadata": {
    "colab": {
     "base_uri": "https://localhost:8080/"
    },
    "id": "PTz2RQUesb7r",
    "outputId": "1a340473-f0d7-46f3-bba5-206dd8655e9a"
   },
   "outputs": [
    {
     "name": "stdout",
     "output_type": "stream",
     "text": [
      "Help on function domplusnoise in module pyrplib.artificial:\n",
      "\n",
      "domplusnoise(n, percentnoise, low=0, high=1)\n",
      "    function creates a dominance graph and adds noise. \n",
      "    \n",
      "    Input: n = number of rows/cols in D matrix\n",
      "          percentnoise = integer between 1 and n^2 representing the\n",
      "                        percentage of noise to add to D domgraph, e.g., \n",
      "                        if percentnoise = 10, then 10% of the n^2\n",
      "                        elements will be noise\n",
      "    Example: 'D = domplusnoise(6,20)' creates a 6 by 6 matrix with 20% noise\n",
      "                added to the dominance graph\n",
      "\n"
     ]
    }
   ],
   "source": [
    "help(domplusnoise)"
   ]
  },
  {
   "cell_type": "code",
   "execution_count": 10,
   "id": "vE_dB7L8nUZr",
   "metadata": {
    "colab": {
     "base_uri": "https://localhost:8080/",
     "height": 206
    },
    "id": "vE_dB7L8nUZr",
    "outputId": "1f20f8cb-bb2b-4cbc-c615-c95c7dc1277c"
   },
   "outputs": [
    {
     "data": {
      "text/html": [
       "<div>\n",
       "<style scoped>\n",
       "    .dataframe tbody tr th:only-of-type {\n",
       "        vertical-align: middle;\n",
       "    }\n",
       "\n",
       "    .dataframe tbody tr th {\n",
       "        vertical-align: top;\n",
       "    }\n",
       "\n",
       "    .dataframe thead th {\n",
       "        text-align: right;\n",
       "    }\n",
       "</style>\n",
       "<table border=\"1\" class=\"dataframe\">\n",
       "  <thead>\n",
       "    <tr style=\"text-align: right;\">\n",
       "      <th></th>\n",
       "      <th>0</th>\n",
       "      <th>1</th>\n",
       "      <th>2</th>\n",
       "      <th>3</th>\n",
       "      <th>4</th>\n",
       "    </tr>\n",
       "  </thead>\n",
       "  <tbody>\n",
       "    <tr>\n",
       "      <th>0</th>\n",
       "      <td>0</td>\n",
       "      <td>5</td>\n",
       "      <td>4</td>\n",
       "      <td>5</td>\n",
       "      <td>5</td>\n",
       "    </tr>\n",
       "    <tr>\n",
       "      <th>1</th>\n",
       "      <td>0</td>\n",
       "      <td>0</td>\n",
       "      <td>5</td>\n",
       "      <td>5</td>\n",
       "      <td>5</td>\n",
       "    </tr>\n",
       "    <tr>\n",
       "      <th>2</th>\n",
       "      <td>0</td>\n",
       "      <td>0</td>\n",
       "      <td>0</td>\n",
       "      <td>5</td>\n",
       "      <td>5</td>\n",
       "    </tr>\n",
       "    <tr>\n",
       "      <th>3</th>\n",
       "      <td>0</td>\n",
       "      <td>0</td>\n",
       "      <td>2</td>\n",
       "      <td>0</td>\n",
       "      <td>5</td>\n",
       "    </tr>\n",
       "    <tr>\n",
       "      <th>4</th>\n",
       "      <td>0</td>\n",
       "      <td>1</td>\n",
       "      <td>0</td>\n",
       "      <td>0</td>\n",
       "      <td>0</td>\n",
       "    </tr>\n",
       "  </tbody>\n",
       "</table>\n",
       "</div>"
      ],
      "text/plain": [
       "   0  1  2  3  4\n",
       "0  0  5  4  5  5\n",
       "1  0  0  5  5  5\n",
       "2  0  0  0  5  5\n",
       "3  0  0  2  0  5\n",
       "4  0  1  0  0  0"
      ]
     },
     "execution_count": 10,
     "metadata": {},
     "output_type": "execute_result"
    }
   ],
   "source": [
    "domplusnoise(5, 20,high=5)"
   ]
  },
  {
   "cell_type": "markdown",
   "id": "_LLdUjZi_jKz",
   "metadata": {
    "id": "_LLdUjZi_jKz"
   },
   "source": [
    "### WEAK DOM + NOISE"
   ]
  },
  {
   "cell_type": "code",
   "execution_count": 11,
   "id": "JqsD_-Y6_jLD",
   "metadata": {
    "colab": {
     "base_uri": "https://localhost:8080/"
    },
    "id": "JqsD_-Y6_jLD",
    "outputId": "b22ffd10-61d9-4a71-8dad-efca20e337b0"
   },
   "outputs": [
    {
     "name": "stdout",
     "output_type": "stream",
     "text": [
      "Help on function weakdomplusnoise in module pyrplib.artificial:\n",
      "\n",
      "weakdomplusnoise(n, percentnoise, low=0, high=1)\n",
      "    function creates a weak dominance graph and adds noise. \n",
      "    \n",
      "    Input: n = number of rows/cols in D matrix\n",
      "          percentnoise = integer between 1 and n^2 representing the\n",
      "                        percentage of noise to add to D domgraph, e.g., \n",
      "                        if percentnoise = 10, then 10% of the n^2\n",
      "                        elements will be noise\n",
      "    Example: 'D = weakdomplusnoise(6,20)' creates a 6 by 6 matrix with 20% noise\n",
      "                added to the dominance graph\n",
      "\n"
     ]
    }
   ],
   "source": [
    "help(weakdomplusnoise)"
   ]
  },
  {
   "cell_type": "code",
   "execution_count": 12,
   "id": "mGw3HA3A_jLE",
   "metadata": {
    "colab": {
     "base_uri": "https://localhost:8080/",
     "height": 206
    },
    "id": "mGw3HA3A_jLE",
    "outputId": "f772eaac-6720-4add-a87c-54090a7dc772"
   },
   "outputs": [
    {
     "data": {
      "text/html": [
       "<div>\n",
       "<style scoped>\n",
       "    .dataframe tbody tr th:only-of-type {\n",
       "        vertical-align: middle;\n",
       "    }\n",
       "\n",
       "    .dataframe tbody tr th {\n",
       "        vertical-align: top;\n",
       "    }\n",
       "\n",
       "    .dataframe thead th {\n",
       "        text-align: right;\n",
       "    }\n",
       "</style>\n",
       "<table border=\"1\" class=\"dataframe\">\n",
       "  <thead>\n",
       "    <tr style=\"text-align: right;\">\n",
       "      <th></th>\n",
       "      <th>0</th>\n",
       "      <th>1</th>\n",
       "      <th>2</th>\n",
       "      <th>3</th>\n",
       "      <th>4</th>\n",
       "    </tr>\n",
       "  </thead>\n",
       "  <tbody>\n",
       "    <tr>\n",
       "      <th>0</th>\n",
       "      <td>0</td>\n",
       "      <td>3</td>\n",
       "      <td>0</td>\n",
       "      <td>0</td>\n",
       "      <td>0</td>\n",
       "    </tr>\n",
       "    <tr>\n",
       "      <th>1</th>\n",
       "      <td>0</td>\n",
       "      <td>0</td>\n",
       "      <td>4</td>\n",
       "      <td>0</td>\n",
       "      <td>0</td>\n",
       "    </tr>\n",
       "    <tr>\n",
       "      <th>2</th>\n",
       "      <td>0</td>\n",
       "      <td>0</td>\n",
       "      <td>0</td>\n",
       "      <td>5</td>\n",
       "      <td>0</td>\n",
       "    </tr>\n",
       "    <tr>\n",
       "      <th>3</th>\n",
       "      <td>0</td>\n",
       "      <td>2</td>\n",
       "      <td>0</td>\n",
       "      <td>0</td>\n",
       "      <td>4</td>\n",
       "    </tr>\n",
       "    <tr>\n",
       "      <th>4</th>\n",
       "      <td>5</td>\n",
       "      <td>0</td>\n",
       "      <td>0</td>\n",
       "      <td>0</td>\n",
       "      <td>0</td>\n",
       "    </tr>\n",
       "  </tbody>\n",
       "</table>\n",
       "</div>"
      ],
      "text/plain": [
       "   0  1  2  3  4\n",
       "0  0  3  0  0  0\n",
       "1  0  0  4  0  0\n",
       "2  0  0  0  5  0\n",
       "3  0  2  0  0  4\n",
       "4  5  0  0  0  0"
      ]
     },
     "execution_count": 12,
     "metadata": {},
     "output_type": "execute_result"
    }
   ],
   "source": [
    "weakdomplusnoise(5, 20,high=5)"
   ]
  },
  {
   "cell_type": "markdown",
   "id": "KjlVnB4t_o2B",
   "metadata": {
    "id": "KjlVnB4t_o2B"
   },
   "source": [
    "### UNWEIGHTED"
   ]
  },
  {
   "cell_type": "code",
   "execution_count": 13,
   "id": "-lzYY9powEbi",
   "metadata": {
    "colab": {
     "base_uri": "https://localhost:8080/"
    },
    "id": "-lzYY9powEbi",
    "outputId": "6891c11a-75cb-4c92-b4d2-0ba58464ed6d"
   },
   "outputs": [
    {
     "name": "stdout",
     "output_type": "stream",
     "text": [
      "Help on function unweighted in module pyrplib.artificial:\n",
      "\n",
      "unweighted(D)\n",
      "    CONVERT TO UNWEIGHTED\n",
      "    \n",
      "    Function returns an unweighted version of D\n",
      "\n"
     ]
    }
   ],
   "source": [
    "help(unweighted)"
   ]
  },
  {
   "cell_type": "code",
   "execution_count": 14,
   "id": "TBiuJEquwQrN",
   "metadata": {
    "colab": {
     "base_uri": "https://localhost:8080/",
     "height": 433
    },
    "id": "TBiuJEquwQrN",
    "outputId": "48a55745-4a13-4791-e0ce-2926bee2660d"
   },
   "outputs": [
    {
     "name": "stdout",
     "output_type": "stream",
     "text": [
      "Weighted:\n"
     ]
    },
    {
     "data": {
      "text/html": [
       "<div>\n",
       "<style scoped>\n",
       "    .dataframe tbody tr th:only-of-type {\n",
       "        vertical-align: middle;\n",
       "    }\n",
       "\n",
       "    .dataframe tbody tr th {\n",
       "        vertical-align: top;\n",
       "    }\n",
       "\n",
       "    .dataframe thead th {\n",
       "        text-align: right;\n",
       "    }\n",
       "</style>\n",
       "<table border=\"1\" class=\"dataframe\">\n",
       "  <thead>\n",
       "    <tr style=\"text-align: right;\">\n",
       "      <th></th>\n",
       "      <th>0</th>\n",
       "      <th>1</th>\n",
       "      <th>2</th>\n",
       "      <th>3</th>\n",
       "      <th>4</th>\n",
       "    </tr>\n",
       "  </thead>\n",
       "  <tbody>\n",
       "    <tr>\n",
       "      <th>0</th>\n",
       "      <td>0</td>\n",
       "      <td>0</td>\n",
       "      <td>2</td>\n",
       "      <td>0</td>\n",
       "      <td>0</td>\n",
       "    </tr>\n",
       "    <tr>\n",
       "      <th>1</th>\n",
       "      <td>0</td>\n",
       "      <td>0</td>\n",
       "      <td>0</td>\n",
       "      <td>2</td>\n",
       "      <td>0</td>\n",
       "    </tr>\n",
       "    <tr>\n",
       "      <th>2</th>\n",
       "      <td>0</td>\n",
       "      <td>0</td>\n",
       "      <td>0</td>\n",
       "      <td>0</td>\n",
       "      <td>0</td>\n",
       "    </tr>\n",
       "    <tr>\n",
       "      <th>3</th>\n",
       "      <td>2</td>\n",
       "      <td>0</td>\n",
       "      <td>0</td>\n",
       "      <td>0</td>\n",
       "      <td>0</td>\n",
       "    </tr>\n",
       "    <tr>\n",
       "      <th>4</th>\n",
       "      <td>0</td>\n",
       "      <td>2</td>\n",
       "      <td>0</td>\n",
       "      <td>0</td>\n",
       "      <td>0</td>\n",
       "    </tr>\n",
       "  </tbody>\n",
       "</table>\n",
       "</div>"
      ],
      "text/plain": [
       "   0  1  2  3  4\n",
       "0  0  0  2  0  0\n",
       "1  0  0  0  2  0\n",
       "2  0  0  0  0  0\n",
       "3  2  0  0  0  0\n",
       "4  0  2  0  0  0"
      ]
     },
     "metadata": {},
     "output_type": "display_data"
    },
    {
     "name": "stdout",
     "output_type": "stream",
     "text": [
      "Unweighted\n"
     ]
    },
    {
     "data": {
      "text/html": [
       "<div>\n",
       "<style scoped>\n",
       "    .dataframe tbody tr th:only-of-type {\n",
       "        vertical-align: middle;\n",
       "    }\n",
       "\n",
       "    .dataframe tbody tr th {\n",
       "        vertical-align: top;\n",
       "    }\n",
       "\n",
       "    .dataframe thead th {\n",
       "        text-align: right;\n",
       "    }\n",
       "</style>\n",
       "<table border=\"1\" class=\"dataframe\">\n",
       "  <thead>\n",
       "    <tr style=\"text-align: right;\">\n",
       "      <th></th>\n",
       "      <th>0</th>\n",
       "      <th>1</th>\n",
       "      <th>2</th>\n",
       "      <th>3</th>\n",
       "      <th>4</th>\n",
       "    </tr>\n",
       "  </thead>\n",
       "  <tbody>\n",
       "    <tr>\n",
       "      <th>0</th>\n",
       "      <td>0</td>\n",
       "      <td>0</td>\n",
       "      <td>1</td>\n",
       "      <td>0</td>\n",
       "      <td>0</td>\n",
       "    </tr>\n",
       "    <tr>\n",
       "      <th>1</th>\n",
       "      <td>0</td>\n",
       "      <td>0</td>\n",
       "      <td>0</td>\n",
       "      <td>1</td>\n",
       "      <td>0</td>\n",
       "    </tr>\n",
       "    <tr>\n",
       "      <th>2</th>\n",
       "      <td>0</td>\n",
       "      <td>0</td>\n",
       "      <td>0</td>\n",
       "      <td>0</td>\n",
       "      <td>0</td>\n",
       "    </tr>\n",
       "    <tr>\n",
       "      <th>3</th>\n",
       "      <td>1</td>\n",
       "      <td>0</td>\n",
       "      <td>0</td>\n",
       "      <td>0</td>\n",
       "      <td>0</td>\n",
       "    </tr>\n",
       "    <tr>\n",
       "      <th>4</th>\n",
       "      <td>0</td>\n",
       "      <td>1</td>\n",
       "      <td>0</td>\n",
       "      <td>0</td>\n",
       "      <td>0</td>\n",
       "    </tr>\n",
       "  </tbody>\n",
       "</table>\n",
       "</div>"
      ],
      "text/plain": [
       "   0  1  2  3  4\n",
       "0  0  0  1  0  0\n",
       "1  0  0  0  1  0\n",
       "2  0  0  0  0  0\n",
       "3  1  0  0  0  0\n",
       "4  0  1  0  0  0"
      ]
     },
     "execution_count": 14,
     "metadata": {},
     "output_type": "execute_result"
    }
   ],
   "source": [
    "D = emptyplusnoise(5, 20,low=2,high=5)\n",
    "print(\"Weighted:\")\n",
    "display(D)\n",
    "print(\"Unweighted\")\n",
    "unweighted(D)"
   ]
  },
  {
   "cell_type": "markdown",
   "id": "b-idYtVnyQw_",
   "metadata": {
    "id": "b-idYtVnyQw_"
   },
   "source": [
    "### REMOVE LINKS"
   ]
  },
  {
   "cell_type": "code",
   "execution_count": 15,
   "id": "GEYaWokQyV2O",
   "metadata": {
    "colab": {
     "base_uri": "https://localhost:8080/"
    },
    "id": "GEYaWokQyV2O",
    "outputId": "651272b7-b07a-4865-deaf-536c306e4818"
   },
   "outputs": [
    {
     "name": "stdout",
     "output_type": "stream",
     "text": [
      "Help on function removelinks in module pyrplib.artificial:\n",
      "\n",
      "removelinks(D, percent)\n",
      "    CONVERT TO UNWEIGHTED\n",
      "    \n",
      "    Function returns a modified version of D with percent of nonzero links removed\n",
      "\n"
     ]
    }
   ],
   "source": [
    "help(removelinks)"
   ]
  },
  {
   "cell_type": "code",
   "execution_count": 16,
   "id": "3oZId-8JyTjv",
   "metadata": {
    "colab": {
     "base_uri": "https://localhost:8080/",
     "height": 433
    },
    "id": "3oZId-8JyTjv",
    "outputId": "d48c1f93-82b3-4deb-8e13-1860a17d9e4a"
   },
   "outputs": [
    {
     "name": "stdout",
     "output_type": "stream",
     "text": [
      "Original:\n"
     ]
    },
    {
     "data": {
      "text/html": [
       "<div>\n",
       "<style scoped>\n",
       "    .dataframe tbody tr th:only-of-type {\n",
       "        vertical-align: middle;\n",
       "    }\n",
       "\n",
       "    .dataframe tbody tr th {\n",
       "        vertical-align: top;\n",
       "    }\n",
       "\n",
       "    .dataframe thead th {\n",
       "        text-align: right;\n",
       "    }\n",
       "</style>\n",
       "<table border=\"1\" class=\"dataframe\">\n",
       "  <thead>\n",
       "    <tr style=\"text-align: right;\">\n",
       "      <th></th>\n",
       "      <th>0</th>\n",
       "      <th>1</th>\n",
       "      <th>2</th>\n",
       "      <th>3</th>\n",
       "      <th>4</th>\n",
       "    </tr>\n",
       "  </thead>\n",
       "  <tbody>\n",
       "    <tr>\n",
       "      <th>0</th>\n",
       "      <td>0</td>\n",
       "      <td>5</td>\n",
       "      <td>5</td>\n",
       "      <td>5</td>\n",
       "      <td>5</td>\n",
       "    </tr>\n",
       "    <tr>\n",
       "      <th>1</th>\n",
       "      <td>0</td>\n",
       "      <td>0</td>\n",
       "      <td>5</td>\n",
       "      <td>5</td>\n",
       "      <td>1</td>\n",
       "    </tr>\n",
       "    <tr>\n",
       "      <th>2</th>\n",
       "      <td>0</td>\n",
       "      <td>0</td>\n",
       "      <td>0</td>\n",
       "      <td>5</td>\n",
       "      <td>1</td>\n",
       "    </tr>\n",
       "    <tr>\n",
       "      <th>3</th>\n",
       "      <td>0</td>\n",
       "      <td>1</td>\n",
       "      <td>0</td>\n",
       "      <td>0</td>\n",
       "      <td>5</td>\n",
       "    </tr>\n",
       "    <tr>\n",
       "      <th>4</th>\n",
       "      <td>0</td>\n",
       "      <td>0</td>\n",
       "      <td>0</td>\n",
       "      <td>0</td>\n",
       "      <td>0</td>\n",
       "    </tr>\n",
       "  </tbody>\n",
       "</table>\n",
       "</div>"
      ],
      "text/plain": [
       "   0  1  2  3  4\n",
       "0  0  5  5  5  5\n",
       "1  0  0  5  5  1\n",
       "2  0  0  0  5  1\n",
       "3  0  1  0  0  5\n",
       "4  0  0  0  0  0"
      ]
     },
     "metadata": {},
     "output_type": "display_data"
    },
    {
     "name": "stdout",
     "output_type": "stream",
     "text": [
      "With links removed\n"
     ]
    },
    {
     "data": {
      "text/html": [
       "<div>\n",
       "<style scoped>\n",
       "    .dataframe tbody tr th:only-of-type {\n",
       "        vertical-align: middle;\n",
       "    }\n",
       "\n",
       "    .dataframe tbody tr th {\n",
       "        vertical-align: top;\n",
       "    }\n",
       "\n",
       "    .dataframe thead th {\n",
       "        text-align: right;\n",
       "    }\n",
       "</style>\n",
       "<table border=\"1\" class=\"dataframe\">\n",
       "  <thead>\n",
       "    <tr style=\"text-align: right;\">\n",
       "      <th></th>\n",
       "      <th>0</th>\n",
       "      <th>1</th>\n",
       "      <th>2</th>\n",
       "      <th>3</th>\n",
       "      <th>4</th>\n",
       "    </tr>\n",
       "  </thead>\n",
       "  <tbody>\n",
       "    <tr>\n",
       "      <th>0</th>\n",
       "      <td>0</td>\n",
       "      <td>0</td>\n",
       "      <td>5</td>\n",
       "      <td>5</td>\n",
       "      <td>5</td>\n",
       "    </tr>\n",
       "    <tr>\n",
       "      <th>1</th>\n",
       "      <td>0</td>\n",
       "      <td>0</td>\n",
       "      <td>0</td>\n",
       "      <td>0</td>\n",
       "      <td>0</td>\n",
       "    </tr>\n",
       "    <tr>\n",
       "      <th>2</th>\n",
       "      <td>0</td>\n",
       "      <td>0</td>\n",
       "      <td>0</td>\n",
       "      <td>5</td>\n",
       "      <td>1</td>\n",
       "    </tr>\n",
       "    <tr>\n",
       "      <th>3</th>\n",
       "      <td>0</td>\n",
       "      <td>1</td>\n",
       "      <td>0</td>\n",
       "      <td>0</td>\n",
       "      <td>5</td>\n",
       "    </tr>\n",
       "    <tr>\n",
       "      <th>4</th>\n",
       "      <td>0</td>\n",
       "      <td>0</td>\n",
       "      <td>0</td>\n",
       "      <td>0</td>\n",
       "      <td>0</td>\n",
       "    </tr>\n",
       "  </tbody>\n",
       "</table>\n",
       "</div>"
      ],
      "text/plain": [
       "   0  1  2  3  4\n",
       "0  0  0  5  5  5\n",
       "1  0  0  0  0  0\n",
       "2  0  0  0  5  1\n",
       "3  0  1  0  0  5\n",
       "4  0  0  0  0  0"
      ]
     },
     "execution_count": 16,
     "metadata": {},
     "output_type": "execute_result"
    }
   ],
   "source": [
    "D = domplusnoise(5, 20,high=5)\n",
    "print(\"Original:\")\n",
    "display(D)\n",
    "print(\"With links removed\")\n",
    "removelinks(D,50)"
   ]
  },
  {
   "cell_type": "markdown",
   "id": "J14xEBVv4WMe",
   "metadata": {
    "id": "J14xEBVv4WMe"
   },
   "source": [
    "### DEFINE MULTIPLE OPTIMAL SOLUTION"
   ]
  },
  {
   "cell_type": "code",
   "execution_count": 17,
   "id": "sxbNTTrG4fhX",
   "metadata": {
    "colab": {
     "base_uri": "https://localhost:8080/"
    },
    "id": "sxbNTTrG4fhX",
    "outputId": "f182b316-5694-43fd-a819-b873ce6f4459"
   },
   "outputs": [
    {
     "name": "stdout",
     "output_type": "stream",
     "text": [
      "Help on function addmossimple in module pyrplib.artificial:\n",
      "\n",
      "addmossimple(D, start_index, end_index)\n",
      "    For a binary matrix D, create simple multiple optimal solutions in the range of teams specified.\n",
      "    Indices are inclusive.\n",
      "\n"
     ]
    }
   ],
   "source": [
    "help(addmossimple)"
   ]
  },
  {
   "cell_type": "code",
   "execution_count": 18,
   "id": "fubtSkzk74U-",
   "metadata": {
    "colab": {
     "base_uri": "https://localhost:8080/",
     "height": 676
    },
    "id": "fubtSkzk74U-",
    "outputId": "4bb9f8ce-db72-4a80-84c3-5e874ce76ffa"
   },
   "outputs": [
    {
     "data": {
      "text/html": [
       "<div>\n",
       "<style scoped>\n",
       "    .dataframe tbody tr th:only-of-type {\n",
       "        vertical-align: middle;\n",
       "    }\n",
       "\n",
       "    .dataframe tbody tr th {\n",
       "        vertical-align: top;\n",
       "    }\n",
       "\n",
       "    .dataframe thead th {\n",
       "        text-align: right;\n",
       "    }\n",
       "</style>\n",
       "<table border=\"1\" class=\"dataframe\">\n",
       "  <thead>\n",
       "    <tr style=\"text-align: right;\">\n",
       "      <th></th>\n",
       "      <th>0</th>\n",
       "      <th>1</th>\n",
       "      <th>2</th>\n",
       "      <th>3</th>\n",
       "      <th>4</th>\n",
       "      <th>5</th>\n",
       "      <th>6</th>\n",
       "      <th>7</th>\n",
       "      <th>8</th>\n",
       "      <th>9</th>\n",
       "      <th>10</th>\n",
       "      <th>11</th>\n",
       "      <th>12</th>\n",
       "      <th>13</th>\n",
       "      <th>14</th>\n",
       "      <th>15</th>\n",
       "      <th>16</th>\n",
       "      <th>17</th>\n",
       "      <th>18</th>\n",
       "      <th>19</th>\n",
       "    </tr>\n",
       "  </thead>\n",
       "  <tbody>\n",
       "    <tr>\n",
       "      <th>0</th>\n",
       "      <td>0</td>\n",
       "      <td>1</td>\n",
       "      <td>1</td>\n",
       "      <td>1</td>\n",
       "      <td>1</td>\n",
       "      <td>1</td>\n",
       "      <td>1</td>\n",
       "      <td>1</td>\n",
       "      <td>1</td>\n",
       "      <td>1</td>\n",
       "      <td>1</td>\n",
       "      <td>1</td>\n",
       "      <td>1</td>\n",
       "      <td>1</td>\n",
       "      <td>1</td>\n",
       "      <td>1</td>\n",
       "      <td>1</td>\n",
       "      <td>1</td>\n",
       "      <td>1</td>\n",
       "      <td>1</td>\n",
       "    </tr>\n",
       "    <tr>\n",
       "      <th>1</th>\n",
       "      <td>1</td>\n",
       "      <td>0</td>\n",
       "      <td>1</td>\n",
       "      <td>1</td>\n",
       "      <td>1</td>\n",
       "      <td>1</td>\n",
       "      <td>1</td>\n",
       "      <td>1</td>\n",
       "      <td>1</td>\n",
       "      <td>1</td>\n",
       "      <td>1</td>\n",
       "      <td>1</td>\n",
       "      <td>1</td>\n",
       "      <td>1</td>\n",
       "      <td>1</td>\n",
       "      <td>1</td>\n",
       "      <td>1</td>\n",
       "      <td>1</td>\n",
       "      <td>1</td>\n",
       "      <td>1</td>\n",
       "    </tr>\n",
       "    <tr>\n",
       "      <th>2</th>\n",
       "      <td>1</td>\n",
       "      <td>1</td>\n",
       "      <td>0</td>\n",
       "      <td>1</td>\n",
       "      <td>1</td>\n",
       "      <td>1</td>\n",
       "      <td>1</td>\n",
       "      <td>1</td>\n",
       "      <td>1</td>\n",
       "      <td>1</td>\n",
       "      <td>1</td>\n",
       "      <td>1</td>\n",
       "      <td>1</td>\n",
       "      <td>1</td>\n",
       "      <td>1</td>\n",
       "      <td>1</td>\n",
       "      <td>1</td>\n",
       "      <td>1</td>\n",
       "      <td>1</td>\n",
       "      <td>1</td>\n",
       "    </tr>\n",
       "    <tr>\n",
       "      <th>3</th>\n",
       "      <td>1</td>\n",
       "      <td>1</td>\n",
       "      <td>1</td>\n",
       "      <td>0</td>\n",
       "      <td>1</td>\n",
       "      <td>1</td>\n",
       "      <td>1</td>\n",
       "      <td>1</td>\n",
       "      <td>1</td>\n",
       "      <td>1</td>\n",
       "      <td>1</td>\n",
       "      <td>1</td>\n",
       "      <td>1</td>\n",
       "      <td>1</td>\n",
       "      <td>1</td>\n",
       "      <td>1</td>\n",
       "      <td>1</td>\n",
       "      <td>1</td>\n",
       "      <td>1</td>\n",
       "      <td>1</td>\n",
       "    </tr>\n",
       "    <tr>\n",
       "      <th>4</th>\n",
       "      <td>1</td>\n",
       "      <td>1</td>\n",
       "      <td>1</td>\n",
       "      <td>1</td>\n",
       "      <td>0</td>\n",
       "      <td>1</td>\n",
       "      <td>1</td>\n",
       "      <td>1</td>\n",
       "      <td>1</td>\n",
       "      <td>1</td>\n",
       "      <td>1</td>\n",
       "      <td>1</td>\n",
       "      <td>1</td>\n",
       "      <td>1</td>\n",
       "      <td>1</td>\n",
       "      <td>1</td>\n",
       "      <td>1</td>\n",
       "      <td>1</td>\n",
       "      <td>1</td>\n",
       "      <td>1</td>\n",
       "    </tr>\n",
       "    <tr>\n",
       "      <th>5</th>\n",
       "      <td>0</td>\n",
       "      <td>0</td>\n",
       "      <td>0</td>\n",
       "      <td>0</td>\n",
       "      <td>0</td>\n",
       "      <td>0</td>\n",
       "      <td>1</td>\n",
       "      <td>1</td>\n",
       "      <td>1</td>\n",
       "      <td>1</td>\n",
       "      <td>1</td>\n",
       "      <td>1</td>\n",
       "      <td>1</td>\n",
       "      <td>1</td>\n",
       "      <td>1</td>\n",
       "      <td>1</td>\n",
       "      <td>1</td>\n",
       "      <td>1</td>\n",
       "      <td>1</td>\n",
       "      <td>1</td>\n",
       "    </tr>\n",
       "    <tr>\n",
       "      <th>6</th>\n",
       "      <td>0</td>\n",
       "      <td>0</td>\n",
       "      <td>0</td>\n",
       "      <td>0</td>\n",
       "      <td>0</td>\n",
       "      <td>0</td>\n",
       "      <td>0</td>\n",
       "      <td>1</td>\n",
       "      <td>1</td>\n",
       "      <td>1</td>\n",
       "      <td>1</td>\n",
       "      <td>1</td>\n",
       "      <td>1</td>\n",
       "      <td>1</td>\n",
       "      <td>1</td>\n",
       "      <td>1</td>\n",
       "      <td>1</td>\n",
       "      <td>1</td>\n",
       "      <td>1</td>\n",
       "      <td>1</td>\n",
       "    </tr>\n",
       "    <tr>\n",
       "      <th>7</th>\n",
       "      <td>0</td>\n",
       "      <td>0</td>\n",
       "      <td>0</td>\n",
       "      <td>0</td>\n",
       "      <td>0</td>\n",
       "      <td>0</td>\n",
       "      <td>0</td>\n",
       "      <td>0</td>\n",
       "      <td>1</td>\n",
       "      <td>1</td>\n",
       "      <td>1</td>\n",
       "      <td>1</td>\n",
       "      <td>1</td>\n",
       "      <td>1</td>\n",
       "      <td>1</td>\n",
       "      <td>1</td>\n",
       "      <td>1</td>\n",
       "      <td>1</td>\n",
       "      <td>1</td>\n",
       "      <td>1</td>\n",
       "    </tr>\n",
       "    <tr>\n",
       "      <th>8</th>\n",
       "      <td>0</td>\n",
       "      <td>0</td>\n",
       "      <td>0</td>\n",
       "      <td>0</td>\n",
       "      <td>0</td>\n",
       "      <td>0</td>\n",
       "      <td>0</td>\n",
       "      <td>0</td>\n",
       "      <td>0</td>\n",
       "      <td>1</td>\n",
       "      <td>1</td>\n",
       "      <td>1</td>\n",
       "      <td>1</td>\n",
       "      <td>1</td>\n",
       "      <td>1</td>\n",
       "      <td>1</td>\n",
       "      <td>1</td>\n",
       "      <td>1</td>\n",
       "      <td>1</td>\n",
       "      <td>1</td>\n",
       "    </tr>\n",
       "    <tr>\n",
       "      <th>9</th>\n",
       "      <td>0</td>\n",
       "      <td>0</td>\n",
       "      <td>0</td>\n",
       "      <td>0</td>\n",
       "      <td>0</td>\n",
       "      <td>0</td>\n",
       "      <td>0</td>\n",
       "      <td>0</td>\n",
       "      <td>0</td>\n",
       "      <td>0</td>\n",
       "      <td>1</td>\n",
       "      <td>1</td>\n",
       "      <td>1</td>\n",
       "      <td>1</td>\n",
       "      <td>1</td>\n",
       "      <td>1</td>\n",
       "      <td>1</td>\n",
       "      <td>1</td>\n",
       "      <td>1</td>\n",
       "      <td>1</td>\n",
       "    </tr>\n",
       "    <tr>\n",
       "      <th>10</th>\n",
       "      <td>0</td>\n",
       "      <td>0</td>\n",
       "      <td>0</td>\n",
       "      <td>0</td>\n",
       "      <td>0</td>\n",
       "      <td>0</td>\n",
       "      <td>0</td>\n",
       "      <td>0</td>\n",
       "      <td>0</td>\n",
       "      <td>0</td>\n",
       "      <td>0</td>\n",
       "      <td>1</td>\n",
       "      <td>1</td>\n",
       "      <td>1</td>\n",
       "      <td>1</td>\n",
       "      <td>1</td>\n",
       "      <td>1</td>\n",
       "      <td>1</td>\n",
       "      <td>1</td>\n",
       "      <td>1</td>\n",
       "    </tr>\n",
       "    <tr>\n",
       "      <th>11</th>\n",
       "      <td>0</td>\n",
       "      <td>0</td>\n",
       "      <td>0</td>\n",
       "      <td>0</td>\n",
       "      <td>0</td>\n",
       "      <td>0</td>\n",
       "      <td>0</td>\n",
       "      <td>0</td>\n",
       "      <td>0</td>\n",
       "      <td>0</td>\n",
       "      <td>0</td>\n",
       "      <td>0</td>\n",
       "      <td>1</td>\n",
       "      <td>1</td>\n",
       "      <td>1</td>\n",
       "      <td>1</td>\n",
       "      <td>1</td>\n",
       "      <td>1</td>\n",
       "      <td>1</td>\n",
       "      <td>1</td>\n",
       "    </tr>\n",
       "    <tr>\n",
       "      <th>12</th>\n",
       "      <td>0</td>\n",
       "      <td>0</td>\n",
       "      <td>0</td>\n",
       "      <td>0</td>\n",
       "      <td>0</td>\n",
       "      <td>0</td>\n",
       "      <td>0</td>\n",
       "      <td>0</td>\n",
       "      <td>0</td>\n",
       "      <td>0</td>\n",
       "      <td>0</td>\n",
       "      <td>0</td>\n",
       "      <td>0</td>\n",
       "      <td>1</td>\n",
       "      <td>1</td>\n",
       "      <td>1</td>\n",
       "      <td>1</td>\n",
       "      <td>1</td>\n",
       "      <td>1</td>\n",
       "      <td>1</td>\n",
       "    </tr>\n",
       "    <tr>\n",
       "      <th>13</th>\n",
       "      <td>0</td>\n",
       "      <td>0</td>\n",
       "      <td>0</td>\n",
       "      <td>0</td>\n",
       "      <td>0</td>\n",
       "      <td>0</td>\n",
       "      <td>0</td>\n",
       "      <td>0</td>\n",
       "      <td>0</td>\n",
       "      <td>0</td>\n",
       "      <td>0</td>\n",
       "      <td>0</td>\n",
       "      <td>0</td>\n",
       "      <td>0</td>\n",
       "      <td>1</td>\n",
       "      <td>1</td>\n",
       "      <td>1</td>\n",
       "      <td>1</td>\n",
       "      <td>1</td>\n",
       "      <td>1</td>\n",
       "    </tr>\n",
       "    <tr>\n",
       "      <th>14</th>\n",
       "      <td>0</td>\n",
       "      <td>0</td>\n",
       "      <td>0</td>\n",
       "      <td>0</td>\n",
       "      <td>0</td>\n",
       "      <td>0</td>\n",
       "      <td>0</td>\n",
       "      <td>0</td>\n",
       "      <td>0</td>\n",
       "      <td>0</td>\n",
       "      <td>0</td>\n",
       "      <td>0</td>\n",
       "      <td>0</td>\n",
       "      <td>0</td>\n",
       "      <td>0</td>\n",
       "      <td>1</td>\n",
       "      <td>1</td>\n",
       "      <td>1</td>\n",
       "      <td>1</td>\n",
       "      <td>1</td>\n",
       "    </tr>\n",
       "    <tr>\n",
       "      <th>15</th>\n",
       "      <td>0</td>\n",
       "      <td>0</td>\n",
       "      <td>0</td>\n",
       "      <td>0</td>\n",
       "      <td>0</td>\n",
       "      <td>0</td>\n",
       "      <td>0</td>\n",
       "      <td>0</td>\n",
       "      <td>0</td>\n",
       "      <td>0</td>\n",
       "      <td>0</td>\n",
       "      <td>0</td>\n",
       "      <td>0</td>\n",
       "      <td>0</td>\n",
       "      <td>0</td>\n",
       "      <td>0</td>\n",
       "      <td>1</td>\n",
       "      <td>1</td>\n",
       "      <td>1</td>\n",
       "      <td>1</td>\n",
       "    </tr>\n",
       "    <tr>\n",
       "      <th>16</th>\n",
       "      <td>0</td>\n",
       "      <td>0</td>\n",
       "      <td>0</td>\n",
       "      <td>0</td>\n",
       "      <td>0</td>\n",
       "      <td>0</td>\n",
       "      <td>0</td>\n",
       "      <td>0</td>\n",
       "      <td>0</td>\n",
       "      <td>0</td>\n",
       "      <td>0</td>\n",
       "      <td>0</td>\n",
       "      <td>0</td>\n",
       "      <td>0</td>\n",
       "      <td>0</td>\n",
       "      <td>0</td>\n",
       "      <td>0</td>\n",
       "      <td>1</td>\n",
       "      <td>1</td>\n",
       "      <td>1</td>\n",
       "    </tr>\n",
       "    <tr>\n",
       "      <th>17</th>\n",
       "      <td>0</td>\n",
       "      <td>0</td>\n",
       "      <td>0</td>\n",
       "      <td>0</td>\n",
       "      <td>0</td>\n",
       "      <td>0</td>\n",
       "      <td>0</td>\n",
       "      <td>0</td>\n",
       "      <td>0</td>\n",
       "      <td>0</td>\n",
       "      <td>0</td>\n",
       "      <td>0</td>\n",
       "      <td>0</td>\n",
       "      <td>0</td>\n",
       "      <td>0</td>\n",
       "      <td>0</td>\n",
       "      <td>0</td>\n",
       "      <td>0</td>\n",
       "      <td>1</td>\n",
       "      <td>1</td>\n",
       "    </tr>\n",
       "    <tr>\n",
       "      <th>18</th>\n",
       "      <td>0</td>\n",
       "      <td>0</td>\n",
       "      <td>0</td>\n",
       "      <td>0</td>\n",
       "      <td>0</td>\n",
       "      <td>0</td>\n",
       "      <td>0</td>\n",
       "      <td>0</td>\n",
       "      <td>0</td>\n",
       "      <td>0</td>\n",
       "      <td>0</td>\n",
       "      <td>0</td>\n",
       "      <td>0</td>\n",
       "      <td>0</td>\n",
       "      <td>0</td>\n",
       "      <td>0</td>\n",
       "      <td>0</td>\n",
       "      <td>0</td>\n",
       "      <td>0</td>\n",
       "      <td>1</td>\n",
       "    </tr>\n",
       "    <tr>\n",
       "      <th>19</th>\n",
       "      <td>0</td>\n",
       "      <td>0</td>\n",
       "      <td>0</td>\n",
       "      <td>0</td>\n",
       "      <td>0</td>\n",
       "      <td>0</td>\n",
       "      <td>0</td>\n",
       "      <td>0</td>\n",
       "      <td>0</td>\n",
       "      <td>0</td>\n",
       "      <td>0</td>\n",
       "      <td>0</td>\n",
       "      <td>0</td>\n",
       "      <td>0</td>\n",
       "      <td>0</td>\n",
       "      <td>0</td>\n",
       "      <td>0</td>\n",
       "      <td>0</td>\n",
       "      <td>0</td>\n",
       "      <td>0</td>\n",
       "    </tr>\n",
       "  </tbody>\n",
       "</table>\n",
       "</div>"
      ],
      "text/plain": [
       "    0   1   2   3   4   5   6   7   8   9   10  11  12  13  14  15  16  17  \\\n",
       "0    0   1   1   1   1   1   1   1   1   1   1   1   1   1   1   1   1   1   \n",
       "1    1   0   1   1   1   1   1   1   1   1   1   1   1   1   1   1   1   1   \n",
       "2    1   1   0   1   1   1   1   1   1   1   1   1   1   1   1   1   1   1   \n",
       "3    1   1   1   0   1   1   1   1   1   1   1   1   1   1   1   1   1   1   \n",
       "4    1   1   1   1   0   1   1   1   1   1   1   1   1   1   1   1   1   1   \n",
       "5    0   0   0   0   0   0   1   1   1   1   1   1   1   1   1   1   1   1   \n",
       "6    0   0   0   0   0   0   0   1   1   1   1   1   1   1   1   1   1   1   \n",
       "7    0   0   0   0   0   0   0   0   1   1   1   1   1   1   1   1   1   1   \n",
       "8    0   0   0   0   0   0   0   0   0   1   1   1   1   1   1   1   1   1   \n",
       "9    0   0   0   0   0   0   0   0   0   0   1   1   1   1   1   1   1   1   \n",
       "10   0   0   0   0   0   0   0   0   0   0   0   1   1   1   1   1   1   1   \n",
       "11   0   0   0   0   0   0   0   0   0   0   0   0   1   1   1   1   1   1   \n",
       "12   0   0   0   0   0   0   0   0   0   0   0   0   0   1   1   1   1   1   \n",
       "13   0   0   0   0   0   0   0   0   0   0   0   0   0   0   1   1   1   1   \n",
       "14   0   0   0   0   0   0   0   0   0   0   0   0   0   0   0   1   1   1   \n",
       "15   0   0   0   0   0   0   0   0   0   0   0   0   0   0   0   0   1   1   \n",
       "16   0   0   0   0   0   0   0   0   0   0   0   0   0   0   0   0   0   1   \n",
       "17   0   0   0   0   0   0   0   0   0   0   0   0   0   0   0   0   0   0   \n",
       "18   0   0   0   0   0   0   0   0   0   0   0   0   0   0   0   0   0   0   \n",
       "19   0   0   0   0   0   0   0   0   0   0   0   0   0   0   0   0   0   0   \n",
       "\n",
       "    18  19  \n",
       "0    1   1  \n",
       "1    1   1  \n",
       "2    1   1  \n",
       "3    1   1  \n",
       "4    1   1  \n",
       "5    1   1  \n",
       "6    1   1  \n",
       "7    1   1  \n",
       "8    1   1  \n",
       "9    1   1  \n",
       "10   1   1  \n",
       "11   1   1  \n",
       "12   1   1  \n",
       "13   1   1  \n",
       "14   1   1  \n",
       "15   1   1  \n",
       "16   1   1  \n",
       "17   1   1  \n",
       "18   0   1  \n",
       "19   0   0  "
      ]
     },
     "execution_count": 18,
     "metadata": {},
     "output_type": "execute_result"
    }
   ],
   "source": [
    "D = domplusnoise(20,0)\n",
    "addmossimple(D,0,4)"
   ]
  },
  {
   "cell_type": "markdown",
   "id": "zYp6U7Qb7a7U",
   "metadata": {
    "id": "zYp6U7Qb7a7U"
   },
   "source": [
    "### Cyclical"
   ]
  },
  {
   "cell_type": "code",
   "execution_count": 19,
   "id": "8n0VLpE97fWr",
   "metadata": {
    "id": "8n0VLpE97fWr"
   },
   "outputs": [],
   "source": [
    "import pandas as pd\n",
    "import numpy as np\n",
    "\n",
    "def cyclic(n):\n",
    "    \"\"\"\n",
    "    Create a simple cycle D matrix of size n x n.\n",
    "    \"\"\"\n",
    "    D=pd.DataFrame(np.zeros((n,n)),dtype=int) # initialize D as an empty graph \n",
    "    for i in range(n-1):\n",
    "        D.iloc[i,i+1] = 1\n",
    "    D.iloc[n-1,0] = 1\n",
    "    return D"
   ]
  },
  {
   "cell_type": "code",
   "execution_count": 20,
   "id": "QEUH1iVR7hME",
   "metadata": {
    "colab": {
     "base_uri": "https://localhost:8080/",
     "height": 677
    },
    "id": "QEUH1iVR7hME",
    "outputId": "f6f2925e-4ae7-4e77-bebc-90b91e3af395"
   },
   "outputs": [
    {
     "data": {
      "text/html": [
       "<div>\n",
       "<style scoped>\n",
       "    .dataframe tbody tr th:only-of-type {\n",
       "        vertical-align: middle;\n",
       "    }\n",
       "\n",
       "    .dataframe tbody tr th {\n",
       "        vertical-align: top;\n",
       "    }\n",
       "\n",
       "    .dataframe thead th {\n",
       "        text-align: right;\n",
       "    }\n",
       "</style>\n",
       "<table border=\"1\" class=\"dataframe\">\n",
       "  <thead>\n",
       "    <tr style=\"text-align: right;\">\n",
       "      <th></th>\n",
       "      <th>0</th>\n",
       "      <th>1</th>\n",
       "      <th>2</th>\n",
       "      <th>3</th>\n",
       "      <th>4</th>\n",
       "      <th>5</th>\n",
       "      <th>6</th>\n",
       "      <th>7</th>\n",
       "      <th>8</th>\n",
       "      <th>9</th>\n",
       "      <th>10</th>\n",
       "      <th>11</th>\n",
       "      <th>12</th>\n",
       "      <th>13</th>\n",
       "      <th>14</th>\n",
       "      <th>15</th>\n",
       "      <th>16</th>\n",
       "      <th>17</th>\n",
       "      <th>18</th>\n",
       "      <th>19</th>\n",
       "    </tr>\n",
       "  </thead>\n",
       "  <tbody>\n",
       "    <tr>\n",
       "      <th>0</th>\n",
       "      <td>0</td>\n",
       "      <td>1</td>\n",
       "      <td>0</td>\n",
       "      <td>0</td>\n",
       "      <td>0</td>\n",
       "      <td>0</td>\n",
       "      <td>0</td>\n",
       "      <td>0</td>\n",
       "      <td>0</td>\n",
       "      <td>0</td>\n",
       "      <td>0</td>\n",
       "      <td>0</td>\n",
       "      <td>0</td>\n",
       "      <td>0</td>\n",
       "      <td>0</td>\n",
       "      <td>0</td>\n",
       "      <td>0</td>\n",
       "      <td>0</td>\n",
       "      <td>0</td>\n",
       "      <td>0</td>\n",
       "    </tr>\n",
       "    <tr>\n",
       "      <th>1</th>\n",
       "      <td>0</td>\n",
       "      <td>0</td>\n",
       "      <td>1</td>\n",
       "      <td>0</td>\n",
       "      <td>0</td>\n",
       "      <td>0</td>\n",
       "      <td>0</td>\n",
       "      <td>0</td>\n",
       "      <td>0</td>\n",
       "      <td>0</td>\n",
       "      <td>0</td>\n",
       "      <td>0</td>\n",
       "      <td>0</td>\n",
       "      <td>0</td>\n",
       "      <td>0</td>\n",
       "      <td>0</td>\n",
       "      <td>0</td>\n",
       "      <td>0</td>\n",
       "      <td>0</td>\n",
       "      <td>0</td>\n",
       "    </tr>\n",
       "    <tr>\n",
       "      <th>2</th>\n",
       "      <td>0</td>\n",
       "      <td>0</td>\n",
       "      <td>0</td>\n",
       "      <td>1</td>\n",
       "      <td>0</td>\n",
       "      <td>0</td>\n",
       "      <td>0</td>\n",
       "      <td>0</td>\n",
       "      <td>0</td>\n",
       "      <td>0</td>\n",
       "      <td>0</td>\n",
       "      <td>0</td>\n",
       "      <td>0</td>\n",
       "      <td>0</td>\n",
       "      <td>0</td>\n",
       "      <td>0</td>\n",
       "      <td>0</td>\n",
       "      <td>0</td>\n",
       "      <td>0</td>\n",
       "      <td>0</td>\n",
       "    </tr>\n",
       "    <tr>\n",
       "      <th>3</th>\n",
       "      <td>0</td>\n",
       "      <td>0</td>\n",
       "      <td>0</td>\n",
       "      <td>0</td>\n",
       "      <td>1</td>\n",
       "      <td>0</td>\n",
       "      <td>0</td>\n",
       "      <td>0</td>\n",
       "      <td>0</td>\n",
       "      <td>0</td>\n",
       "      <td>0</td>\n",
       "      <td>0</td>\n",
       "      <td>0</td>\n",
       "      <td>0</td>\n",
       "      <td>0</td>\n",
       "      <td>0</td>\n",
       "      <td>0</td>\n",
       "      <td>0</td>\n",
       "      <td>0</td>\n",
       "      <td>0</td>\n",
       "    </tr>\n",
       "    <tr>\n",
       "      <th>4</th>\n",
       "      <td>0</td>\n",
       "      <td>0</td>\n",
       "      <td>0</td>\n",
       "      <td>0</td>\n",
       "      <td>0</td>\n",
       "      <td>1</td>\n",
       "      <td>0</td>\n",
       "      <td>0</td>\n",
       "      <td>0</td>\n",
       "      <td>0</td>\n",
       "      <td>0</td>\n",
       "      <td>0</td>\n",
       "      <td>0</td>\n",
       "      <td>0</td>\n",
       "      <td>0</td>\n",
       "      <td>0</td>\n",
       "      <td>0</td>\n",
       "      <td>0</td>\n",
       "      <td>0</td>\n",
       "      <td>0</td>\n",
       "    </tr>\n",
       "    <tr>\n",
       "      <th>5</th>\n",
       "      <td>0</td>\n",
       "      <td>0</td>\n",
       "      <td>0</td>\n",
       "      <td>0</td>\n",
       "      <td>0</td>\n",
       "      <td>0</td>\n",
       "      <td>1</td>\n",
       "      <td>0</td>\n",
       "      <td>0</td>\n",
       "      <td>0</td>\n",
       "      <td>0</td>\n",
       "      <td>0</td>\n",
       "      <td>0</td>\n",
       "      <td>0</td>\n",
       "      <td>0</td>\n",
       "      <td>0</td>\n",
       "      <td>0</td>\n",
       "      <td>0</td>\n",
       "      <td>0</td>\n",
       "      <td>0</td>\n",
       "    </tr>\n",
       "    <tr>\n",
       "      <th>6</th>\n",
       "      <td>0</td>\n",
       "      <td>0</td>\n",
       "      <td>0</td>\n",
       "      <td>0</td>\n",
       "      <td>0</td>\n",
       "      <td>0</td>\n",
       "      <td>0</td>\n",
       "      <td>1</td>\n",
       "      <td>0</td>\n",
       "      <td>0</td>\n",
       "      <td>0</td>\n",
       "      <td>0</td>\n",
       "      <td>0</td>\n",
       "      <td>0</td>\n",
       "      <td>0</td>\n",
       "      <td>0</td>\n",
       "      <td>0</td>\n",
       "      <td>0</td>\n",
       "      <td>0</td>\n",
       "      <td>0</td>\n",
       "    </tr>\n",
       "    <tr>\n",
       "      <th>7</th>\n",
       "      <td>0</td>\n",
       "      <td>0</td>\n",
       "      <td>0</td>\n",
       "      <td>0</td>\n",
       "      <td>0</td>\n",
       "      <td>0</td>\n",
       "      <td>0</td>\n",
       "      <td>0</td>\n",
       "      <td>1</td>\n",
       "      <td>0</td>\n",
       "      <td>0</td>\n",
       "      <td>0</td>\n",
       "      <td>0</td>\n",
       "      <td>0</td>\n",
       "      <td>0</td>\n",
       "      <td>0</td>\n",
       "      <td>0</td>\n",
       "      <td>0</td>\n",
       "      <td>0</td>\n",
       "      <td>0</td>\n",
       "    </tr>\n",
       "    <tr>\n",
       "      <th>8</th>\n",
       "      <td>0</td>\n",
       "      <td>0</td>\n",
       "      <td>0</td>\n",
       "      <td>0</td>\n",
       "      <td>0</td>\n",
       "      <td>0</td>\n",
       "      <td>0</td>\n",
       "      <td>0</td>\n",
       "      <td>0</td>\n",
       "      <td>1</td>\n",
       "      <td>0</td>\n",
       "      <td>0</td>\n",
       "      <td>0</td>\n",
       "      <td>0</td>\n",
       "      <td>0</td>\n",
       "      <td>0</td>\n",
       "      <td>0</td>\n",
       "      <td>0</td>\n",
       "      <td>0</td>\n",
       "      <td>0</td>\n",
       "    </tr>\n",
       "    <tr>\n",
       "      <th>9</th>\n",
       "      <td>0</td>\n",
       "      <td>0</td>\n",
       "      <td>0</td>\n",
       "      <td>0</td>\n",
       "      <td>0</td>\n",
       "      <td>0</td>\n",
       "      <td>0</td>\n",
       "      <td>0</td>\n",
       "      <td>0</td>\n",
       "      <td>0</td>\n",
       "      <td>1</td>\n",
       "      <td>0</td>\n",
       "      <td>0</td>\n",
       "      <td>0</td>\n",
       "      <td>0</td>\n",
       "      <td>0</td>\n",
       "      <td>0</td>\n",
       "      <td>0</td>\n",
       "      <td>0</td>\n",
       "      <td>0</td>\n",
       "    </tr>\n",
       "    <tr>\n",
       "      <th>10</th>\n",
       "      <td>0</td>\n",
       "      <td>0</td>\n",
       "      <td>0</td>\n",
       "      <td>0</td>\n",
       "      <td>0</td>\n",
       "      <td>0</td>\n",
       "      <td>0</td>\n",
       "      <td>0</td>\n",
       "      <td>0</td>\n",
       "      <td>0</td>\n",
       "      <td>0</td>\n",
       "      <td>1</td>\n",
       "      <td>0</td>\n",
       "      <td>0</td>\n",
       "      <td>0</td>\n",
       "      <td>0</td>\n",
       "      <td>0</td>\n",
       "      <td>0</td>\n",
       "      <td>0</td>\n",
       "      <td>0</td>\n",
       "    </tr>\n",
       "    <tr>\n",
       "      <th>11</th>\n",
       "      <td>0</td>\n",
       "      <td>0</td>\n",
       "      <td>0</td>\n",
       "      <td>0</td>\n",
       "      <td>0</td>\n",
       "      <td>0</td>\n",
       "      <td>0</td>\n",
       "      <td>0</td>\n",
       "      <td>0</td>\n",
       "      <td>0</td>\n",
       "      <td>0</td>\n",
       "      <td>0</td>\n",
       "      <td>1</td>\n",
       "      <td>0</td>\n",
       "      <td>0</td>\n",
       "      <td>0</td>\n",
       "      <td>0</td>\n",
       "      <td>0</td>\n",
       "      <td>0</td>\n",
       "      <td>0</td>\n",
       "    </tr>\n",
       "    <tr>\n",
       "      <th>12</th>\n",
       "      <td>0</td>\n",
       "      <td>0</td>\n",
       "      <td>0</td>\n",
       "      <td>0</td>\n",
       "      <td>0</td>\n",
       "      <td>0</td>\n",
       "      <td>0</td>\n",
       "      <td>0</td>\n",
       "      <td>0</td>\n",
       "      <td>0</td>\n",
       "      <td>0</td>\n",
       "      <td>0</td>\n",
       "      <td>0</td>\n",
       "      <td>1</td>\n",
       "      <td>0</td>\n",
       "      <td>0</td>\n",
       "      <td>0</td>\n",
       "      <td>0</td>\n",
       "      <td>0</td>\n",
       "      <td>0</td>\n",
       "    </tr>\n",
       "    <tr>\n",
       "      <th>13</th>\n",
       "      <td>0</td>\n",
       "      <td>0</td>\n",
       "      <td>0</td>\n",
       "      <td>0</td>\n",
       "      <td>0</td>\n",
       "      <td>0</td>\n",
       "      <td>0</td>\n",
       "      <td>0</td>\n",
       "      <td>0</td>\n",
       "      <td>0</td>\n",
       "      <td>0</td>\n",
       "      <td>0</td>\n",
       "      <td>0</td>\n",
       "      <td>0</td>\n",
       "      <td>1</td>\n",
       "      <td>0</td>\n",
       "      <td>0</td>\n",
       "      <td>0</td>\n",
       "      <td>0</td>\n",
       "      <td>0</td>\n",
       "    </tr>\n",
       "    <tr>\n",
       "      <th>14</th>\n",
       "      <td>0</td>\n",
       "      <td>0</td>\n",
       "      <td>0</td>\n",
       "      <td>0</td>\n",
       "      <td>0</td>\n",
       "      <td>0</td>\n",
       "      <td>0</td>\n",
       "      <td>0</td>\n",
       "      <td>0</td>\n",
       "      <td>0</td>\n",
       "      <td>0</td>\n",
       "      <td>0</td>\n",
       "      <td>0</td>\n",
       "      <td>0</td>\n",
       "      <td>0</td>\n",
       "      <td>1</td>\n",
       "      <td>0</td>\n",
       "      <td>0</td>\n",
       "      <td>0</td>\n",
       "      <td>0</td>\n",
       "    </tr>\n",
       "    <tr>\n",
       "      <th>15</th>\n",
       "      <td>0</td>\n",
       "      <td>0</td>\n",
       "      <td>0</td>\n",
       "      <td>0</td>\n",
       "      <td>0</td>\n",
       "      <td>0</td>\n",
       "      <td>0</td>\n",
       "      <td>0</td>\n",
       "      <td>0</td>\n",
       "      <td>0</td>\n",
       "      <td>0</td>\n",
       "      <td>0</td>\n",
       "      <td>0</td>\n",
       "      <td>0</td>\n",
       "      <td>0</td>\n",
       "      <td>0</td>\n",
       "      <td>1</td>\n",
       "      <td>0</td>\n",
       "      <td>0</td>\n",
       "      <td>0</td>\n",
       "    </tr>\n",
       "    <tr>\n",
       "      <th>16</th>\n",
       "      <td>0</td>\n",
       "      <td>0</td>\n",
       "      <td>0</td>\n",
       "      <td>0</td>\n",
       "      <td>0</td>\n",
       "      <td>0</td>\n",
       "      <td>0</td>\n",
       "      <td>0</td>\n",
       "      <td>0</td>\n",
       "      <td>0</td>\n",
       "      <td>0</td>\n",
       "      <td>0</td>\n",
       "      <td>0</td>\n",
       "      <td>0</td>\n",
       "      <td>0</td>\n",
       "      <td>0</td>\n",
       "      <td>0</td>\n",
       "      <td>1</td>\n",
       "      <td>0</td>\n",
       "      <td>0</td>\n",
       "    </tr>\n",
       "    <tr>\n",
       "      <th>17</th>\n",
       "      <td>0</td>\n",
       "      <td>0</td>\n",
       "      <td>0</td>\n",
       "      <td>0</td>\n",
       "      <td>0</td>\n",
       "      <td>0</td>\n",
       "      <td>0</td>\n",
       "      <td>0</td>\n",
       "      <td>0</td>\n",
       "      <td>0</td>\n",
       "      <td>0</td>\n",
       "      <td>0</td>\n",
       "      <td>0</td>\n",
       "      <td>0</td>\n",
       "      <td>0</td>\n",
       "      <td>0</td>\n",
       "      <td>0</td>\n",
       "      <td>0</td>\n",
       "      <td>1</td>\n",
       "      <td>0</td>\n",
       "    </tr>\n",
       "    <tr>\n",
       "      <th>18</th>\n",
       "      <td>0</td>\n",
       "      <td>0</td>\n",
       "      <td>0</td>\n",
       "      <td>0</td>\n",
       "      <td>0</td>\n",
       "      <td>0</td>\n",
       "      <td>0</td>\n",
       "      <td>0</td>\n",
       "      <td>0</td>\n",
       "      <td>0</td>\n",
       "      <td>0</td>\n",
       "      <td>0</td>\n",
       "      <td>0</td>\n",
       "      <td>0</td>\n",
       "      <td>0</td>\n",
       "      <td>0</td>\n",
       "      <td>0</td>\n",
       "      <td>0</td>\n",
       "      <td>0</td>\n",
       "      <td>1</td>\n",
       "    </tr>\n",
       "    <tr>\n",
       "      <th>19</th>\n",
       "      <td>1</td>\n",
       "      <td>0</td>\n",
       "      <td>0</td>\n",
       "      <td>0</td>\n",
       "      <td>0</td>\n",
       "      <td>0</td>\n",
       "      <td>0</td>\n",
       "      <td>0</td>\n",
       "      <td>0</td>\n",
       "      <td>0</td>\n",
       "      <td>0</td>\n",
       "      <td>0</td>\n",
       "      <td>0</td>\n",
       "      <td>0</td>\n",
       "      <td>0</td>\n",
       "      <td>0</td>\n",
       "      <td>0</td>\n",
       "      <td>0</td>\n",
       "      <td>0</td>\n",
       "      <td>0</td>\n",
       "    </tr>\n",
       "  </tbody>\n",
       "</table>\n",
       "</div>"
      ],
      "text/plain": [
       "    0   1   2   3   4   5   6   7   8   9   10  11  12  13  14  15  16  17  \\\n",
       "0    0   1   0   0   0   0   0   0   0   0   0   0   0   0   0   0   0   0   \n",
       "1    0   0   1   0   0   0   0   0   0   0   0   0   0   0   0   0   0   0   \n",
       "2    0   0   0   1   0   0   0   0   0   0   0   0   0   0   0   0   0   0   \n",
       "3    0   0   0   0   1   0   0   0   0   0   0   0   0   0   0   0   0   0   \n",
       "4    0   0   0   0   0   1   0   0   0   0   0   0   0   0   0   0   0   0   \n",
       "5    0   0   0   0   0   0   1   0   0   0   0   0   0   0   0   0   0   0   \n",
       "6    0   0   0   0   0   0   0   1   0   0   0   0   0   0   0   0   0   0   \n",
       "7    0   0   0   0   0   0   0   0   1   0   0   0   0   0   0   0   0   0   \n",
       "8    0   0   0   0   0   0   0   0   0   1   0   0   0   0   0   0   0   0   \n",
       "9    0   0   0   0   0   0   0   0   0   0   1   0   0   0   0   0   0   0   \n",
       "10   0   0   0   0   0   0   0   0   0   0   0   1   0   0   0   0   0   0   \n",
       "11   0   0   0   0   0   0   0   0   0   0   0   0   1   0   0   0   0   0   \n",
       "12   0   0   0   0   0   0   0   0   0   0   0   0   0   1   0   0   0   0   \n",
       "13   0   0   0   0   0   0   0   0   0   0   0   0   0   0   1   0   0   0   \n",
       "14   0   0   0   0   0   0   0   0   0   0   0   0   0   0   0   1   0   0   \n",
       "15   0   0   0   0   0   0   0   0   0   0   0   0   0   0   0   0   1   0   \n",
       "16   0   0   0   0   0   0   0   0   0   0   0   0   0   0   0   0   0   1   \n",
       "17   0   0   0   0   0   0   0   0   0   0   0   0   0   0   0   0   0   0   \n",
       "18   0   0   0   0   0   0   0   0   0   0   0   0   0   0   0   0   0   0   \n",
       "19   1   0   0   0   0   0   0   0   0   0   0   0   0   0   0   0   0   0   \n",
       "\n",
       "    18  19  \n",
       "0    0   0  \n",
       "1    0   0  \n",
       "2    0   0  \n",
       "3    0   0  \n",
       "4    0   0  \n",
       "5    0   0  \n",
       "6    0   0  \n",
       "7    0   0  \n",
       "8    0   0  \n",
       "9    0   0  \n",
       "10   0   0  \n",
       "11   0   0  \n",
       "12   0   0  \n",
       "13   0   0  \n",
       "14   0   0  \n",
       "15   0   0  \n",
       "16   0   0  \n",
       "17   1   0  \n",
       "18   0   1  \n",
       "19   0   0  "
      ]
     },
     "execution_count": 20,
     "metadata": {},
     "output_type": "execute_result"
    }
   ],
   "source": [
    "cyclic(20)"
   ]
  },
  {
   "cell_type": "markdown",
   "id": "9fs-610BqH0G",
   "metadata": {
    "id": "9fs-610BqH0G"
   },
   "source": [
    "## Visualizations"
   ]
  },
  {
   "cell_type": "code",
   "execution_count": 21,
   "id": "2lgNevl4usTj",
   "metadata": {
    "colab": {
     "base_uri": "https://localhost:8080/"
    },
    "id": "2lgNevl4usTj",
    "outputId": "dfbd70ac-81ea-459c-f584-91dde8afc35f"
   },
   "outputs": [
    {
     "name": "stdout",
     "output_type": "stream",
     "text": [
      "Defaulting to user installation because normal site-packages is not writeable\n",
      "Requirement already satisfied: nx_altair in /home/jupyter-pander14/.local/lib/python3.9/site-packages (0.1.6)\n",
      "Requirement already satisfied: networkx in /home/jupyter-pander14/.local/lib/python3.9/site-packages (from nx_altair) (2.6.3)\n",
      "Requirement already satisfied: altair in /home/jupyter-pander14/.local/lib/python3.9/site-packages (from nx_altair) (4.1.0)\n",
      "Requirement already satisfied: pandas in /home/jupyter-pander14/.local/lib/python3.9/site-packages (from nx_altair) (1.2.1)\n",
      "Requirement already satisfied: numpy in /home/jupyter-pander14/.local/lib/python3.9/site-packages (from altair->nx_altair) (1.22.3)\n",
      "Requirement already satisfied: jinja2 in /opt/tljh/user/lib/python3.9/site-packages (from altair->nx_altair) (3.0.3)\n",
      "Requirement already satisfied: entrypoints in /opt/tljh/user/lib/python3.9/site-packages (from altair->nx_altair) (0.4)\n",
      "Requirement already satisfied: toolz in /home/jupyter-pander14/.local/lib/python3.9/site-packages (from altair->nx_altair) (0.11.2)\n",
      "Requirement already satisfied: jsonschema in /opt/tljh/user/lib/python3.9/site-packages (from altair->nx_altair) (4.4.0)\n",
      "Requirement already satisfied: pytz>=2017.3 in /opt/tljh/user/lib/python3.9/site-packages (from pandas->nx_altair) (2021.3)\n",
      "Requirement already satisfied: python-dateutil>=2.7.3 in /opt/tljh/user/lib/python3.9/site-packages (from pandas->nx_altair) (2.8.2)\n",
      "Requirement already satisfied: six>=1.5 in /opt/tljh/user/lib/python3.9/site-packages (from python-dateutil>=2.7.3->pandas->nx_altair) (1.16.0)\n",
      "Requirement already satisfied: MarkupSafe>=2.0 in /opt/tljh/user/lib/python3.9/site-packages (from jinja2->altair->nx_altair) (2.1.0)\n",
      "Requirement already satisfied: attrs>=17.4.0 in /opt/tljh/user/lib/python3.9/site-packages (from jsonschema->altair->nx_altair) (21.4.0)\n",
      "Requirement already satisfied: pyrsistent!=0.17.0,!=0.17.1,!=0.17.2,>=0.14.0 in /opt/tljh/user/lib/python3.9/site-packages (from jsonschema->altair->nx_altair) (0.18.1)\n"
     ]
    }
   ],
   "source": [
    "!pip install nx_altair # not available on colab by default"
   ]
  },
  {
   "cell_type": "code",
   "execution_count": 22,
   "id": "nfNdyDqTQryG",
   "metadata": {
    "colab": {
     "base_uri": "https://localhost:8080/",
     "height": 201
    },
    "id": "nfNdyDqTQryG",
    "outputId": "82514bc0-91d7-437b-8899-74ab9393c362"
   },
   "outputs": [
    {
     "data": {
      "text/html": [
       "\n",
       "<div id=\"altair-viz-1907952c6576456e80e88a949c792130\"></div>\n",
       "<script type=\"text/javascript\">\n",
       "  (function(spec, embedOpt){\n",
       "    let outputDiv = document.currentScript.previousElementSibling;\n",
       "    if (outputDiv.id !== \"altair-viz-1907952c6576456e80e88a949c792130\") {\n",
       "      outputDiv = document.getElementById(\"altair-viz-1907952c6576456e80e88a949c792130\");\n",
       "    }\n",
       "    const paths = {\n",
       "      \"vega\": \"https://cdn.jsdelivr.net/npm//vega@5?noext\",\n",
       "      \"vega-lib\": \"https://cdn.jsdelivr.net/npm//vega-lib?noext\",\n",
       "      \"vega-lite\": \"https://cdn.jsdelivr.net/npm//vega-lite@4.8.1?noext\",\n",
       "      \"vega-embed\": \"https://cdn.jsdelivr.net/npm//vega-embed@6?noext\",\n",
       "    };\n",
       "\n",
       "    function loadScript(lib) {\n",
       "      return new Promise(function(resolve, reject) {\n",
       "        var s = document.createElement('script');\n",
       "        s.src = paths[lib];\n",
       "        s.async = true;\n",
       "        s.onload = () => resolve(paths[lib]);\n",
       "        s.onerror = () => reject(`Error loading script: ${paths[lib]}`);\n",
       "        document.getElementsByTagName(\"head\")[0].appendChild(s);\n",
       "      });\n",
       "    }\n",
       "\n",
       "    function showError(err) {\n",
       "      outputDiv.innerHTML = `<div class=\"error\" style=\"color:red;\">${err}</div>`;\n",
       "      throw err;\n",
       "    }\n",
       "\n",
       "    function displayChart(vegaEmbed) {\n",
       "      vegaEmbed(outputDiv, spec, embedOpt)\n",
       "        .catch(err => showError(`Javascript Error: ${err.message}<br>This usually means there's a typo in your chart specification. See the javascript console for the full traceback.`));\n",
       "    }\n",
       "\n",
       "    if(typeof define === \"function\" && define.amd) {\n",
       "      requirejs.config({paths});\n",
       "      require([\"vega-embed\"], displayChart, err => showError(`Error loading script: ${err.message}`));\n",
       "    } else if (typeof vegaEmbed === \"function\") {\n",
       "      displayChart(vegaEmbed);\n",
       "    } else {\n",
       "      loadScript(\"vega\")\n",
       "        .then(() => loadScript(\"vega-lite\"))\n",
       "        .then(() => loadScript(\"vega-embed\"))\n",
       "        .catch(showError)\n",
       "        .then(() => displayChart(vegaEmbed));\n",
       "    }\n",
       "  })({\"config\": {\"view\": {\"continuousWidth\": 400, \"continuousHeight\": 300}}, \"layer\": [{\"data\": {\"name\": \"data-5fe1c16961cd475eed6569ff0a93fb3b\"}, \"mark\": {\"type\": \"line\", \"opacity\": 1, \"strokeWidth\": 4.0}, \"encoding\": {\"color\": {\"type\": \"quantitative\", \"field\": \"weight\", \"legend\": null}, \"detail\": {\"type\": \"quantitative\", \"field\": \"edge\"}, \"tooltip\": [{\"type\": \"quantitative\", \"field\": \"source\"}, {\"type\": \"quantitative\", \"field\": \"target\"}, {\"type\": \"quantitative\", \"field\": \"weight\"}], \"x\": {\"type\": \"quantitative\", \"axis\": {\"grid\": false, \"labels\": false, \"ticks\": false, \"title\": \"\"}, \"field\": \"x\"}, \"y\": {\"type\": \"quantitative\", \"axis\": {\"grid\": false, \"labels\": false, \"ticks\": false, \"title\": \"\"}, \"field\": \"y\"}}}, {\"data\": {\"name\": \"data-967472aaf09ad3bbd044bd313e142559\"}, \"mark\": {\"type\": \"line\", \"color\": \"black\", \"opacity\": 1, \"strokeWidth\": 4}, \"encoding\": {\"detail\": {\"type\": \"quantitative\", \"field\": \"edge\"}, \"tooltip\": [{\"type\": \"quantitative\", \"field\": \"source\"}, {\"type\": \"quantitative\", \"field\": \"target\"}, {\"type\": \"quantitative\", \"field\": \"weight\"}], \"x\": {\"type\": \"quantitative\", \"axis\": {\"grid\": false, \"labels\": false, \"ticks\": false}, \"field\": \"x\"}, \"y\": {\"type\": \"quantitative\", \"axis\": {\"grid\": false, \"labels\": false, \"ticks\": false}, \"field\": \"y\"}}}, {\"data\": {\"name\": \"data-f53d46da63c539b1b6cbf67315614905\"}, \"mark\": {\"type\": \"point\", \"fill\": \"white\", \"opacity\": 1, \"size\": 300, \"strokeWidth\": 1.0}, \"encoding\": {\"x\": {\"type\": \"quantitative\", \"axis\": {\"grid\": false, \"labels\": false, \"ticks\": false}, \"field\": \"x\"}, \"y\": {\"type\": \"quantitative\", \"axis\": {\"grid\": false, \"labels\": false, \"ticks\": false}, \"field\": \"y\"}}}, {\"data\": {\"name\": \"data-f53d46da63c539b1b6cbf67315614905\"}, \"mark\": {\"type\": \"text\", \"baseline\": \"middle\", \"fill\": \"black\", \"size\": 15}, \"encoding\": {\"text\": {\"type\": \"quantitative\", \"field\": \"labels\"}, \"x\": {\"type\": \"quantitative\", \"axis\": {\"grid\": false, \"labels\": false, \"ticks\": false}, \"field\": \"x\"}, \"y\": {\"type\": \"quantitative\", \"axis\": {\"grid\": false, \"labels\": false, \"ticks\": false}, \"field\": \"y\"}}}], \"$schema\": \"https://vega.github.io/schema/vega-lite/v4.8.1.json\", \"datasets\": {\"data-5fe1c16961cd475eed6569ff0a93fb3b\": [{\"source\": 0, \"edge\": 0, \"y\": -0.097686564267672, \"x\": -0.1014945462383732, \"pair\": [0, 1], \"target\": 1, \"weight\": 1}, {\"source\": 0, \"edge\": 0, \"y\": 0.23879762545200672, \"x\": -0.2061299447568514, \"pair\": [0, 1], \"target\": 1, \"weight\": 1}, {\"source\": 0, \"edge\": 1, \"y\": -0.097686564267672, \"x\": -0.1014945462383732, \"pair\": [0, 2], \"target\": 2, \"weight\": 2}, {\"source\": 0, \"edge\": 1, \"y\": 0.030868991844427277, \"x\": 0.1946904636059154, \"pair\": [0, 2], \"target\": 2, \"weight\": 2}, {\"source\": 0, \"edge\": 2, \"y\": -0.097686564267672, \"x\": -0.1014945462383732, \"pair\": [0, 3], \"target\": 3, \"weight\": 3}, {\"source\": 0, \"edge\": 2, \"y\": -0.6087327882408387, \"x\": 0.17624950893431127, \"pair\": [0, 3], \"target\": 3, \"weight\": 3}, {\"source\": 0, \"edge\": 3, \"y\": -0.097686564267672, \"x\": -0.1014945462383732, \"pair\": [0, 4], \"target\": 4, \"weight\": 4}, {\"source\": 0, \"edge\": 3, \"y\": -0.1208801777424434, \"x\": -1.0, \"pair\": [0, 4], \"target\": 4, \"weight\": 4}, {\"source\": 0, \"edge\": 4, \"y\": -0.097686564267672, \"x\": -0.1014945462383732, \"pair\": [0, 5], \"target\": 5, \"weight\": 5}, {\"source\": 0, \"edge\": 4, \"y\": 0.5576329129545219, \"x\": 0.936684518454998, \"pair\": [0, 5], \"target\": 5, \"weight\": 5}, {\"source\": 1, \"edge\": 5, \"y\": 0.23879762545200672, \"x\": -0.2061299447568514, \"pair\": [1, 2], \"target\": 2, \"weight\": 1}, {\"source\": 1, \"edge\": 5, \"y\": 0.030868991844427277, \"x\": 0.1946904636059154, \"pair\": [1, 2], \"target\": 2, \"weight\": 1}, {\"source\": 1, \"edge\": 6, \"y\": 0.23879762545200672, \"x\": -0.2061299447568514, \"pair\": [1, 3], \"target\": 3, \"weight\": 2}, {\"source\": 1, \"edge\": 6, \"y\": -0.6087327882408387, \"x\": 0.17624950893431127, \"pair\": [1, 3], \"target\": 3, \"weight\": 2}, {\"source\": 1, \"edge\": 7, \"y\": 0.23879762545200672, \"x\": -0.2061299447568514, \"pair\": [1, 4], \"target\": 4, \"weight\": 3}, {\"source\": 1, \"edge\": 7, \"y\": -0.1208801777424434, \"x\": -1.0, \"pair\": [1, 4], \"target\": 4, \"weight\": 3}, {\"source\": 1, \"edge\": 8, \"y\": 0.23879762545200672, \"x\": -0.2061299447568514, \"pair\": [1, 5], \"target\": 5, \"weight\": 4}, {\"source\": 1, \"edge\": 8, \"y\": 0.5576329129545219, \"x\": 0.936684518454998, \"pair\": [1, 5], \"target\": 5, \"weight\": 4}, {\"source\": 2, \"edge\": 9, \"y\": 0.030868991844427277, \"x\": 0.1946904636059154, \"pair\": [2, 3], \"target\": 3, \"weight\": 1}, {\"source\": 2, \"edge\": 9, \"y\": -0.6087327882408387, \"x\": 0.17624950893431127, \"pair\": [2, 3], \"target\": 3, \"weight\": 1}, {\"source\": 2, \"edge\": 10, \"y\": 0.030868991844427277, \"x\": 0.1946904636059154, \"pair\": [2, 4], \"target\": 4, \"weight\": 2}, {\"source\": 2, \"edge\": 10, \"y\": -0.1208801777424434, \"x\": -1.0, \"pair\": [2, 4], \"target\": 4, \"weight\": 2}, {\"source\": 2, \"edge\": 11, \"y\": 0.030868991844427277, \"x\": 0.1946904636059154, \"pair\": [2, 5], \"target\": 5, \"weight\": 3}, {\"source\": 2, \"edge\": 11, \"y\": 0.5576329129545219, \"x\": 0.936684518454998, \"pair\": [2, 5], \"target\": 5, \"weight\": 3}, {\"source\": 3, \"edge\": 12, \"y\": -0.6087327882408387, \"x\": 0.17624950893431127, \"pair\": [3, 4], \"target\": 4, \"weight\": 1}, {\"source\": 3, \"edge\": 12, \"y\": -0.1208801777424434, \"x\": -1.0, \"pair\": [3, 4], \"target\": 4, \"weight\": 1}, {\"source\": 3, \"edge\": 13, \"y\": -0.6087327882408387, \"x\": 0.17624950893431127, \"pair\": [3, 5], \"target\": 5, \"weight\": 2}, {\"source\": 3, \"edge\": 13, \"y\": 0.5576329129545219, \"x\": 0.936684518454998, \"pair\": [3, 5], \"target\": 5, \"weight\": 2}, {\"source\": 4, \"edge\": 14, \"y\": -0.1208801777424434, \"x\": -1.0, \"pair\": [4, 5], \"target\": 5, \"weight\": 1}, {\"source\": 4, \"edge\": 14, \"y\": 0.5576329129545219, \"x\": 0.936684518454998, \"pair\": [4, 5], \"target\": 5, \"weight\": 1}], \"data-967472aaf09ad3bbd044bd313e142559\": [{\"source\": 0, \"edge\": 0, \"y\": 0.23879762545200672, \"x\": -0.2061299447568514, \"pair\": [0, 1], \"target\": 1, \"weight\": 1}, {\"source\": 0, \"edge\": 0, \"y\": 0.20514920648003884, \"x\": -0.1956664049050036, \"pair\": [0, 1], \"target\": 1, \"weight\": 1}, {\"source\": 0, \"edge\": 1, \"y\": 0.030868991844427277, \"x\": 0.1946904636059154, \"pair\": [0, 2], \"target\": 2, \"weight\": 2}, {\"source\": 0, \"edge\": 1, \"y\": 0.01801343623321735, \"x\": 0.16507196262148655, \"pair\": [0, 2], \"target\": 2, \"weight\": 2}, {\"source\": 0, \"edge\": 2, \"y\": -0.6087327882408387, \"x\": 0.17624950893431127, \"pair\": [0, 3], \"target\": 3, \"weight\": 3}, {\"source\": 0, \"edge\": 2, \"y\": -0.557628165843522, \"x\": 0.14847510341704281, \"pair\": [0, 3], \"target\": 3, \"weight\": 3}, {\"source\": 0, \"edge\": 3, \"y\": -0.1208801777424434, \"x\": -1.0, \"pair\": [0, 4], \"target\": 4, \"weight\": 4}, {\"source\": 0, \"edge\": 3, \"y\": -0.11856081639496627, \"x\": -0.9101494546238373, \"pair\": [0, 4], \"target\": 4, \"weight\": 4}, {\"source\": 0, \"edge\": 4, \"y\": 0.5576329129545219, \"x\": 0.936684518454998, \"pair\": [0, 5], \"target\": 5, \"weight\": 5}, {\"source\": 0, \"edge\": 4, \"y\": 0.4921009652323025, \"x\": 0.8328666119856609, \"pair\": [0, 5], \"target\": 5, \"weight\": 5}, {\"source\": 1, \"edge\": 5, \"y\": 0.030868991844427277, \"x\": 0.1946904636059154, \"pair\": [1, 2], \"target\": 2, \"weight\": 1}, {\"source\": 1, \"edge\": 5, \"y\": 0.05166185520518522, \"x\": 0.15460842276963874, \"pair\": [1, 2], \"target\": 2, \"weight\": 1}, {\"source\": 1, \"edge\": 6, \"y\": -0.6087327882408387, \"x\": 0.17624950893431127, \"pair\": [1, 3], \"target\": 3, \"weight\": 2}, {\"source\": 1, \"edge\": 6, \"y\": -0.5239797468715541, \"x\": 0.138011563565195, \"pair\": [1, 3], \"target\": 3, \"weight\": 2}, {\"source\": 1, \"edge\": 7, \"y\": -0.1208801777424434, \"x\": -1.0, \"pair\": [1, 4], \"target\": 4, \"weight\": 3}, {\"source\": 1, \"edge\": 7, \"y\": -0.08491239742299839, \"x\": -0.9206129944756851, \"pair\": [1, 4], \"target\": 4, \"weight\": 3}, {\"source\": 1, \"edge\": 8, \"y\": 0.5576329129545219, \"x\": 0.936684518454998, \"pair\": [1, 5], \"target\": 5, \"weight\": 4}, {\"source\": 1, \"edge\": 8, \"y\": 0.5257493842042704, \"x\": 0.822403072133813, \"pair\": [1, 5], \"target\": 5, \"weight\": 4}, {\"source\": 2, \"edge\": 9, \"y\": -0.6087327882408387, \"x\": 0.17624950893431127, \"pair\": [2, 3], \"target\": 3, \"weight\": 1}, {\"source\": 2, \"edge\": 9, \"y\": -0.544772610232312, \"x\": 0.17809360440147168, \"pair\": [2, 3], \"target\": 3, \"weight\": 1}, {\"source\": 2, \"edge\": 10, \"y\": -0.1208801777424434, \"x\": -1.0, \"pair\": [2, 4], \"target\": 4, \"weight\": 2}, {\"source\": 2, \"edge\": 10, \"y\": -0.10570526078375633, \"x\": -0.8805309536394085, \"pair\": [2, 4], \"target\": 4, \"weight\": 2}, {\"source\": 2, \"edge\": 11, \"y\": 0.5576329129545219, \"x\": 0.936684518454998, \"pair\": [2, 5], \"target\": 5, \"weight\": 3}, {\"source\": 2, \"edge\": 11, \"y\": 0.5049565208435124, \"x\": 0.8624851129700898, \"pair\": [2, 5], \"target\": 5, \"weight\": 3}, {\"source\": 3, \"edge\": 12, \"y\": -0.1208801777424434, \"x\": -1.0, \"pair\": [3, 4], \"target\": 4, \"weight\": 1}, {\"source\": 3, \"edge\": 12, \"y\": -0.16966543879228294, \"x\": -0.8823750491065688, \"pair\": [3, 4], \"target\": 4, \"weight\": 1}, {\"source\": 3, \"edge\": 13, \"y\": 0.5576329129545219, \"x\": 0.936684518454998, \"pair\": [3, 5], \"target\": 5, \"weight\": 2}, {\"source\": 3, \"edge\": 13, \"y\": 0.44099634283498584, \"x\": 0.8606410175029293, \"pair\": [3, 5], \"target\": 5, \"weight\": 2}, {\"source\": 4, \"edge\": 14, \"y\": 0.5576329129545219, \"x\": 0.936684518454998, \"pair\": [4, 5], \"target\": 5, \"weight\": 1}, {\"source\": 4, \"edge\": 14, \"y\": 0.48978160388482533, \"x\": 0.7430160666094981, \"pair\": [4, 5], \"target\": 5, \"weight\": 1}], \"data-f53d46da63c539b1b6cbf67315614905\": [{\"y\": -0.097686564267672, \"labels\": 0.0, \"x\": -0.1014945462383732}, {\"y\": 0.23879762545200672, \"labels\": 1.0, \"x\": -0.2061299447568514}, {\"y\": 0.030868991844427277, \"labels\": 2.0, \"x\": 0.1946904636059154}, {\"y\": -0.6087327882408387, \"labels\": 3.0, \"x\": 0.17624950893431127}, {\"y\": -0.1208801777424434, \"labels\": 4.0, \"x\": -1.0}, {\"y\": 0.5576329129545219, \"labels\": 5.0, \"x\": 0.936684518454998}]}}, {\"mode\": \"vega-lite\"});\n",
       "</script>"
      ],
      "text/plain": [
       "alt.LayerChart(...)"
      ]
     },
     "execution_count": 22,
     "metadata": {},
     "output_type": "execute_result"
    }
   ],
   "source": [
    "import networkx as nx\n",
    "import nx_altair as nxa\n",
    "def DGraph(G, pos=None):\n",
    "  if not isinstance(G, nx.DiGraph):\n",
    "    G = nx.DiGraph(G)\n",
    "\n",
    "  if pos is None:\n",
    "    pos = nx.drawing.layout.spring_layout(G, seed=7)\n",
    "  \n",
    "  nx.set_node_attributes(G, {val: val for val in list(G.nodes)}, 'labels')\n",
    "  return nxa.draw_networkx(G, pos, edge_color = 'weight', node_label='labels', \n",
    "                           node_color = 'white', width=4.0, arrow_width=4,\n",
    "                           edge_tooltip=['source', 'target', 'weight'])\n",
    "\n",
    "DGraph(hillsideplusnoise(6, 0))"
   ]
  },
  {
   "cell_type": "code",
   "execution_count": 23,
   "id": "3nGtWEf97vIu",
   "metadata": {
    "colab": {
     "base_uri": "https://localhost:8080/",
     "height": 337
    },
    "id": "3nGtWEf97vIu",
    "outputId": "2733e855-6663-4bce-9fe8-4e91e404d0d8"
   },
   "outputs": [
    {
     "data": {
      "text/html": [
       "\n",
       "<div id=\"altair-viz-f78066fb366d4813b92c529119f2a2cb\"></div>\n",
       "<script type=\"text/javascript\">\n",
       "  (function(spec, embedOpt){\n",
       "    let outputDiv = document.currentScript.previousElementSibling;\n",
       "    if (outputDiv.id !== \"altair-viz-f78066fb366d4813b92c529119f2a2cb\") {\n",
       "      outputDiv = document.getElementById(\"altair-viz-f78066fb366d4813b92c529119f2a2cb\");\n",
       "    }\n",
       "    const paths = {\n",
       "      \"vega\": \"https://cdn.jsdelivr.net/npm//vega@5?noext\",\n",
       "      \"vega-lib\": \"https://cdn.jsdelivr.net/npm//vega-lib?noext\",\n",
       "      \"vega-lite\": \"https://cdn.jsdelivr.net/npm//vega-lite@4.8.1?noext\",\n",
       "      \"vega-embed\": \"https://cdn.jsdelivr.net/npm//vega-embed@6?noext\",\n",
       "    };\n",
       "\n",
       "    function loadScript(lib) {\n",
       "      return new Promise(function(resolve, reject) {\n",
       "        var s = document.createElement('script');\n",
       "        s.src = paths[lib];\n",
       "        s.async = true;\n",
       "        s.onload = () => resolve(paths[lib]);\n",
       "        s.onerror = () => reject(`Error loading script: ${paths[lib]}`);\n",
       "        document.getElementsByTagName(\"head\")[0].appendChild(s);\n",
       "      });\n",
       "    }\n",
       "\n",
       "    function showError(err) {\n",
       "      outputDiv.innerHTML = `<div class=\"error\" style=\"color:red;\">${err}</div>`;\n",
       "      throw err;\n",
       "    }\n",
       "\n",
       "    function displayChart(vegaEmbed) {\n",
       "      vegaEmbed(outputDiv, spec, embedOpt)\n",
       "        .catch(err => showError(`Javascript Error: ${err.message}<br>This usually means there's a typo in your chart specification. See the javascript console for the full traceback.`));\n",
       "    }\n",
       "\n",
       "    if(typeof define === \"function\" && define.amd) {\n",
       "      requirejs.config({paths});\n",
       "      require([\"vega-embed\"], displayChart, err => showError(`Error loading script: ${err.message}`));\n",
       "    } else if (typeof vegaEmbed === \"function\") {\n",
       "      displayChart(vegaEmbed);\n",
       "    } else {\n",
       "      loadScript(\"vega\")\n",
       "        .then(() => loadScript(\"vega-lite\"))\n",
       "        .then(() => loadScript(\"vega-embed\"))\n",
       "        .catch(showError)\n",
       "        .then(() => displayChart(vegaEmbed));\n",
       "    }\n",
       "  })({\"config\": {\"view\": {\"continuousWidth\": 400, \"continuousHeight\": 300}}, \"layer\": [{\"data\": {\"name\": \"data-58de46887284df4d271b6ef98693568f\"}, \"mark\": {\"type\": \"line\", \"opacity\": 1, \"strokeWidth\": 4.0}, \"encoding\": {\"color\": {\"type\": \"quantitative\", \"field\": \"weight\", \"legend\": null}, \"detail\": {\"type\": \"quantitative\", \"field\": \"edge\"}, \"tooltip\": [{\"type\": \"quantitative\", \"field\": \"source\"}, {\"type\": \"quantitative\", \"field\": \"target\"}, {\"type\": \"quantitative\", \"field\": \"weight\"}], \"x\": {\"type\": \"quantitative\", \"axis\": {\"grid\": false, \"labels\": false, \"ticks\": false, \"title\": \"\"}, \"field\": \"x\"}, \"y\": {\"type\": \"quantitative\", \"axis\": {\"grid\": false, \"labels\": false, \"ticks\": false, \"title\": \"\"}, \"field\": \"y\"}}}, {\"data\": {\"name\": \"data-09ba4a1a0a15a734ef7840406ca50347\"}, \"mark\": {\"type\": \"line\", \"color\": \"black\", \"opacity\": 1, \"strokeWidth\": 4}, \"encoding\": {\"detail\": {\"type\": \"quantitative\", \"field\": \"edge\"}, \"tooltip\": [{\"type\": \"quantitative\", \"field\": \"source\"}, {\"type\": \"quantitative\", \"field\": \"target\"}, {\"type\": \"quantitative\", \"field\": \"weight\"}], \"x\": {\"type\": \"quantitative\", \"axis\": {\"grid\": false, \"labels\": false, \"ticks\": false}, \"field\": \"x\"}, \"y\": {\"type\": \"quantitative\", \"axis\": {\"grid\": false, \"labels\": false, \"ticks\": false}, \"field\": \"y\"}}}, {\"data\": {\"name\": \"data-369475e6cbbdd6e6dfe8846dddd9f0b1\"}, \"mark\": {\"type\": \"point\", \"fill\": \"white\", \"opacity\": 1, \"size\": 300, \"strokeWidth\": 1.0}, \"encoding\": {\"x\": {\"type\": \"quantitative\", \"axis\": {\"grid\": false, \"labels\": false, \"ticks\": false}, \"field\": \"x\"}, \"y\": {\"type\": \"quantitative\", \"axis\": {\"grid\": false, \"labels\": false, \"ticks\": false}, \"field\": \"y\"}}}, {\"data\": {\"name\": \"data-369475e6cbbdd6e6dfe8846dddd9f0b1\"}, \"mark\": {\"type\": \"text\", \"baseline\": \"middle\", \"fill\": \"black\", \"size\": 15}, \"encoding\": {\"text\": {\"type\": \"quantitative\", \"field\": \"labels\"}, \"x\": {\"type\": \"quantitative\", \"axis\": {\"grid\": false, \"labels\": false, \"ticks\": false}, \"field\": \"x\"}, \"y\": {\"type\": \"quantitative\", \"axis\": {\"grid\": false, \"labels\": false, \"ticks\": false}, \"field\": \"y\"}}}], \"$schema\": \"https://vega.github.io/schema/vega-lite/v4.8.1.json\", \"datasets\": {\"data-58de46887284df4d271b6ef98693568f\": [{\"source\": 0, \"edge\": 0, \"y\": 1.4702742047251475e-08, \"x\": 1.0, \"pair\": [0, 1], \"target\": 1, \"weight\": 1}, {\"source\": 0, \"edge\": 0, \"y\": 0.5877852551873061, \"x\": 0.8090170037208972, \"pair\": [0, 1], \"target\": 1, \"weight\": 1}, {\"source\": 1, \"edge\": 1, \"y\": 0.5877852551873061, \"x\": 0.8090170037208972, \"pair\": [1, 2], \"target\": 2, \"weight\": 1}, {\"source\": 1, \"edge\": 1, \"y\": 0.9510565490463628, \"x\": 0.30901697689880736, \"pair\": [1, 2], \"target\": 2, \"weight\": 1}, {\"source\": 2, \"edge\": 2, \"y\": 0.9510565490463628, \"x\": 0.30901697689880736, \"pair\": [2, 3], \"target\": 3, \"weight\": 1}, {\"source\": 2, \"edge\": 2, \"y\": 0.9510564894417184, \"x\": -0.30901702458252295, \"pair\": [2, 3], \"target\": 3, \"weight\": 1}, {\"source\": 3, \"edge\": 3, \"y\": 0.9510564894417184, \"x\": -0.30901702458252295, \"pair\": [3, 4], \"target\": 4, \"weight\": 1}, {\"source\": 3, \"edge\": 3, \"y\": 0.5877852551873061, \"x\": -0.8090169917999684, \"pair\": [3, 4], \"target\": 4, \"weight\": 1}, {\"source\": 4, \"edge\": 4, \"y\": 0.5877852551873061, \"x\": -0.8090169917999684, \"pair\": [4, 5], \"target\": 5, \"weight\": 1}, {\"source\": 4, \"edge\": 4, \"y\": -7.272003400514403e-08, \"x\": -0.999999988079071, \"pair\": [4, 5], \"target\": 5, \"weight\": 1}, {\"source\": 5, \"edge\": 5, \"y\": -7.272003400514403e-08, \"x\": -0.999999988079071, \"pair\": [5, 6], \"target\": 6, \"weight\": 1}, {\"source\": 5, \"edge\": 5, \"y\": -0.5877852853864663, \"x\": -0.809016932195324, \"pair\": [5, 6], \"target\": 6, \"weight\": 1}, {\"source\": 6, \"edge\": 6, \"y\": -0.5877852853864663, \"x\": -0.809016932195324, \"pair\": [6, 7], \"target\": 7, \"weight\": 1}, {\"source\": 6, \"edge\": 6, \"y\": -0.9510564600362343, \"x\": -0.30901711398948956, \"pair\": [6, 7], \"target\": 7, \"weight\": 1}, {\"source\": 7, \"edge\": 7, \"y\": -0.9510564600362343, \"x\": -0.30901711398948956, \"pair\": [7, 8], \"target\": 8, \"weight\": 1}, {\"source\": 7, \"edge\": 7, \"y\": -0.9510564600362343, \"x\": 0.3090171259104184, \"pair\": [7, 8], \"target\": 8, \"weight\": 1}, {\"source\": 8, \"edge\": 8, \"y\": -0.9510564600362343, \"x\": 0.3090171259104184, \"pair\": [8, 9], \"target\": 9, \"weight\": 1}, {\"source\": 8, \"edge\": 8, \"y\": -0.5877852853864663, \"x\": 0.8090169441162529, \"pair\": [8, 9], \"target\": 9, \"weight\": 1}, {\"source\": 9, \"edge\": 9, \"y\": -0.5877852853864663, \"x\": 0.8090169441162529, \"pair\": [9, 0], \"target\": 0, \"weight\": 1}, {\"source\": 9, \"edge\": 9, \"y\": 1.4702742047251475e-08, \"x\": 1.0, \"pair\": [9, 0], \"target\": 0, \"weight\": 1}], \"data-09ba4a1a0a15a734ef7840406ca50347\": [{\"source\": 0, \"edge\": 0, \"y\": 0.5877852551873061, \"x\": 0.8090170037208972, \"pair\": [0, 1], \"target\": 1, \"weight\": 1}, {\"source\": 0, \"edge\": 0, \"y\": 0.5290067311388497, \"x\": 0.8281153033488076, \"pair\": [0, 1], \"target\": 1, \"weight\": 1}, {\"source\": 1, \"edge\": 1, \"y\": 0.9510565490463628, \"x\": 0.30901697689880736, \"pair\": [1, 2], \"target\": 2, \"weight\": 1}, {\"source\": 1, \"edge\": 1, \"y\": 0.9147294196604572, \"x\": 0.35901697958101636, \"pair\": [1, 2], \"target\": 2, \"weight\": 1}, {\"source\": 2, \"edge\": 2, \"y\": 0.9510564894417184, \"x\": -0.30901702458252295, \"pair\": [2, 3], \"target\": 3, \"weight\": 1}, {\"source\": 2, \"edge\": 2, \"y\": 0.9510564954021828, \"x\": -0.2472136244343899, \"pair\": [2, 3], \"target\": 3, \"weight\": 1}, {\"source\": 3, \"edge\": 3, \"y\": 0.5877852551873061, \"x\": -0.8090169917999684, \"pair\": [3, 4], \"target\": 4, \"weight\": 1}, {\"source\": 3, \"edge\": 3, \"y\": 0.6241123786127473, \"x\": -0.7590169950782238, \"pair\": [3, 4], \"target\": 4, \"weight\": 1}, {\"source\": 4, \"edge\": 4, \"y\": -7.272003400514403e-08, \"x\": -0.999999988079071, \"pair\": [4, 5], \"target\": 5, \"weight\": 1}, {\"source\": 4, \"edge\": 4, \"y\": 0.0587784600707, \"x\": -0.9809016884511608, \"pair\": [4, 5], \"target\": 5, \"weight\": 1}, {\"source\": 5, \"edge\": 5, \"y\": -0.5877852853864663, \"x\": -0.809016932195324, \"pair\": [5, 6], \"target\": 6, \"weight\": 1}, {\"source\": 5, \"edge\": 5, \"y\": -0.5290067641198231, \"x\": -0.8281152377836987, \"pair\": [5, 6], \"target\": 6, \"weight\": 1}, {\"source\": 6, \"edge\": 6, \"y\": -0.9510564600362343, \"x\": -0.30901711398948956, \"pair\": [6, 7], \"target\": 7, \"weight\": 1}, {\"source\": 6, \"edge\": 6, \"y\": -0.9147293425712575, \"x\": -0.359017095810073, \"pair\": [6, 7], \"target\": 7, \"weight\": 1}, {\"source\": 7, \"edge\": 7, \"y\": -0.9510564600362343, \"x\": 0.3090171259104184, \"pair\": [7, 8], \"target\": 8, \"weight\": 1}, {\"source\": 7, \"edge\": 7, \"y\": -0.9510564600362343, \"x\": 0.24721370192042763, \"pair\": [7, 8], \"target\": 8, \"weight\": 1}, {\"source\": 8, \"edge\": 8, \"y\": -0.5877852853864663, \"x\": 0.8090169441162529, \"pair\": [8, 9], \"target\": 9, \"weight\": 1}, {\"source\": 8, \"edge\": 8, \"y\": -0.6241124028514431, \"x\": 0.7590169622956695, \"pair\": [8, 9], \"target\": 9, \"weight\": 1}, {\"source\": 9, \"edge\": 9, \"y\": 1.4702742047251475e-08, \"x\": 1.0, \"pair\": [9, 0], \"target\": 0, \"weight\": 1}, {\"source\": 9, \"edge\": 9, \"y\": -0.058778515306178794, \"x\": 0.9809016944116253, \"pair\": [9, 0], \"target\": 0, \"weight\": 1}], \"data-369475e6cbbdd6e6dfe8846dddd9f0b1\": [{\"y\": 1.4702742047251475e-08, \"labels\": 0.0, \"x\": 1.0}, {\"y\": 0.5877852551873061, \"labels\": 1.0, \"x\": 0.8090170037208972}, {\"y\": 0.9510565490463628, \"labels\": 2.0, \"x\": 0.30901697689880736}, {\"y\": 0.9510564894417184, \"labels\": 3.0, \"x\": -0.30901702458252295}, {\"y\": 0.5877852551873061, \"labels\": 4.0, \"x\": -0.8090169917999684}, {\"y\": -7.272003400514403e-08, \"labels\": 5.0, \"x\": -0.999999988079071}, {\"y\": -0.5877852853864663, \"labels\": 6.0, \"x\": -0.809016932195324}, {\"y\": -0.9510564600362343, \"labels\": 7.0, \"x\": -0.30901711398948956}, {\"y\": -0.9510564600362343, \"labels\": 8.0, \"x\": 0.3090171259104184}, {\"y\": -0.5877852853864663, \"labels\": 9.0, \"x\": 0.8090169441162529}]}}, {\"mode\": \"vega-lite\"});\n",
       "</script>"
      ],
      "text/plain": [
       "alt.LayerChart(...)"
      ]
     },
     "execution_count": 23,
     "metadata": {},
     "output_type": "execute_result"
    }
   ],
   "source": [
    "import networkx as nx\n",
    "import nx_altair as nxa\n",
    "def DGraph(G, pos=None):\n",
    "  if not isinstance(G, nx.DiGraph):\n",
    "    G = nx.DiGraph(G)\n",
    "\n",
    "  if pos is None:\n",
    "    pos = nx.drawing.layout.circular_layout(G)\n",
    "  \n",
    "  nx.set_node_attributes(G, {val: val for val in list(G.nodes)}, 'labels')\n",
    "  return nxa.draw_networkx(G, pos, edge_color = 'weight', node_label='labels', \n",
    "                           node_color = 'white', width=4.0, arrow_width=4,\n",
    "                           edge_tooltip=['source', 'target', 'weight'])\n",
    "\n",
    "DGraph(cyclic(10))"
   ]
  },
  {
   "cell_type": "markdown",
   "id": "GKNfP3o6olQg",
   "metadata": {
    "id": "GKNfP3o6olQg"
   },
   "source": [
    "## Creating datasets\n",
    "### Customizing a ``create`` function\n",
    "You can code your own create function and define your own options. After that, you should be able to use the provided scaffold to create many artifical dominance matrices.\n",
    "\n",
    "We provide a few sample functions in pyrplib. These are shown below."
   ]
  },
  {
   "cell_type": "code",
   "execution_count": null,
   "id": "6uLc7DN78_gN",
   "metadata": {
    "colab": {
     "base_uri": "https://localhost:8080/"
    },
    "id": "6uLc7DN78_gN",
    "outputId": "d779a88c-ec6d-46d2-a38c-1c0044ff4987"
   },
   "outputs": [
    {
     "name": "stdout",
     "output_type": "stream",
     "text": [
      "def example_create(options=example_get_create_options()):\n",
      "    \"\"\"\n",
      "    Example create function. These functions must return a dominance (D) matrix that is a pandas dataframe. \n",
      "    Options is a dictionary. There is one required key/value which is the number_of_rows_columns. \n",
      "    It may also have additional arguments.\n",
      "    \"\"\"\n",
      "    assert type(options) == dict\n",
      "    r = pd.Series(np.arange(options['number_of_rows_columns'],0,-1))\n",
      "\n",
      "    D = domfromranking(options['number_of_rows_columns'],r,options['num_games'],\n",
      "                              upset_func=lambda r1,r2: (abs(r1-r2) <= options['threshold']) and np.random.uniform() > 0.5)\n",
      "    return D\n",
      "\n",
      "def example_get_create_options():\n",
      "    \"\"\"\n",
      "    Example set of options to be paired with example_create function.\n",
      "    \"\"\"\n",
      "    return {\n",
      "        \"number_matrices\":10,\n",
      "        \"number_of_rows_columns\": 20,\n",
      "        \"threshold\":3,\n",
      "        \"num_games\":1000\n",
      "    }\n",
      "\n",
      "def example_create2(options=example_get_create_options2()):\n",
      "    \"\"\"\n",
      "    Example create function. These functions must return a dominance (D) matrix that is a pandas dataframe. \n",
      "    Options is a dictionary. There is one required key/value which is the number_of_rows_columns. \n",
      "    It may also have additional arguments.\n",
      "    \"\"\"\n",
      "    assert type(options) == dict\n",
      "    r = pd.Series(np.arange(options['number_of_rows_columns'],0,-1))\n",
      "\n",
      "    D = domfromranking(options['number_of_rows_columns'],r,options['num_games'],upset_func=lambda r1,r2: np.exp(r2) / np.sum(np.exp([r1,r2])) >= np.random.uniform())\n",
      "    return D\n",
      "\n",
      "def example_get_create_options2():\n",
      "    \"\"\"\n",
      "    Example set of options to be paired with example_create2 function.\n",
      "    \"\"\"\n",
      "    return {\n",
      "        \"number_matrices\":10,\n",
      "        \"number_of_rows_columns\": 20,\n",
      "        \"num_games\":1000\n",
      "    }\n",
      "\n",
      "def example_create3(options):\n",
      "    \"\"\"\n",
      "    Example create function. These functions must return a dominance (D) matrix that is a pandas dataframe. \n",
      "    Options is a dictionary. There is one required key/value which is the number_of_rows_columns. \n",
      "    It may also have additional arguments.\n",
      "    \"\"\"\n",
      "    assert type(options) == dict\n",
      "    D = domplusnoise(options['number_of_rows_columns'],options['percentage'],options['low'],options['high'])\n",
      "    if options['percent_links_to_remove'] > 0:\n",
      "        D = removelinks(D,options['percent_links_to_remove'])\n",
      "    if options['make_unweighted']:\n",
      "        D = unweighted(D)\n",
      "    return D\n",
      "\n",
      "def example_get_create_options3():\n",
      "    return {\n",
      "        \"number_matrices\":10,\n",
      "        \"number_of_rows_columns\": 20,\n",
      "        \"low\":0,\n",
      "        \"high\":5,\n",
      "        \"percentage\":30,\n",
      "        \"percent_links_to_remove\":10,\n",
      "        \"make_unweighted\":False,\n",
      "    }\n",
      "\n"
     ]
    }
   ],
   "source": [
    "import inspect\n",
    "\n",
    "print(inspect.getsource(example_create))\n",
    "print(inspect.getsource(example_get_create_options))\n",
    "print(inspect.getsource(example_create2))\n",
    "print(inspect.getsource(example_get_create_options2))\n",
    "print(inspect.getsource(example_create3))\n",
    "print(inspect.getsource(example_get_create_options3))"
   ]
  },
  {
   "cell_type": "code",
   "execution_count": null,
   "id": "L4HysoWWdKZg",
   "metadata": {
    "colab": {
     "base_uri": "https://localhost:8080/"
    },
    "id": "L4HysoWWdKZg",
    "outputId": "f0736e1c-6ee6-43f2-a9ba-f37f87d75ed8"
   },
   "outputs": [
    {
     "name": "stdout",
     "output_type": "stream",
     "text": [
      "Mounted at /content/drive\n"
     ]
    }
   ],
   "source": [
    "from google.colab import drive\n",
    "drive.mount('/content/drive')"
   ]
  },
  {
   "cell_type": "markdown",
   "id": "NuYyceFS_lGt",
   "metadata": {
    "id": "NuYyceFS_lGt"
   },
   "source": [
    "### Example: DOM + NOISE"
   ]
  },
  {
   "cell_type": "code",
   "execution_count": null,
   "id": "zdM8ZEuNdLDA",
   "metadata": {
    "cellView": "form",
    "id": "zdM8ZEuNdLDA"
   },
   "outputs": [],
   "source": [
    "#@title Parameters\n",
    "number_matrices =  30#@param {type:\"integer\"}\n",
    "\n",
    "number_of_rows_columns =  20#@param {type:\"integer\"}\n",
    "\n",
    "low =  0#@param {type:\"integer\"}\n",
    "\n",
    "high = 5 #@param {type:\"integer\"}\n",
    "\n",
    "percentage = 90 #@param {type:\"slider\", min:1, max:100, step:1}\n",
    "\n",
    "percent_links_to_remove = 10 #@param {type:\"slider\", min:1, max:100, step:1}\n",
    "\n",
    "make_unweighted = False #@param {type:\"boolean\"}\n",
    "\n",
    "output_directory = \"structured_artificial\" #@param {type:\"string\"}\n"
   ]
  },
  {
   "cell_type": "markdown",
   "id": "FSUwrce4Aatw",
   "metadata": {
    "id": "FSUwrce4Aatw"
   },
   "source": [
    "#### Creating the matrices"
   ]
  },
  {
   "cell_type": "code",
   "execution_count": null,
   "id": "U2jp8OY545LL",
   "metadata": {
    "id": "U2jp8OY545LL"
   },
   "outputs": [],
   "source": [
    "options = {\n",
    "        \"number_matrices\":number_matrices,\n",
    "        \"number_of_rows_columns\": number_of_rows_columns,\n",
    "        \"low\":low,\n",
    "        \"high\":high,\n",
    "        \"percentage\":percentage,\n",
    "        \"percent_links_to_remove\":percent_links_to_remove,\n",
    "        \"make_unweighted\":make_unweighted,\n",
    "    }\n",
    "    \n",
    "dataset = create_dataset(example_create3,options)"
   ]
  },
  {
   "cell_type": "markdown",
   "id": "0x2zfgxqAgoQ",
   "metadata": {
    "id": "0x2zfgxqAgoQ"
   },
   "source": [
    "#### Storing dataset in Google Drive (optional)"
   ]
  },
  {
   "cell_type": "code",
   "execution_count": null,
   "id": "r6fXDBNF5u3S",
   "metadata": {
    "colab": {
     "base_uri": "https://localhost:8080/"
    },
    "id": "r6fXDBNF5u3S",
    "outputId": "ba93f5f3-29e7-4a13-82fa-427ea62baa28"
   },
   "outputs": [
    {
     "name": "stdout",
     "output_type": "stream",
     "text": [
      "Mounted at /content/drive\n"
     ]
    }
   ],
   "source": [
    "from google.colab import drive\n",
    "drive.mount('/content/drive')"
   ]
  },
  {
   "cell_type": "code",
   "execution_count": null,
   "id": "HoxDTA7HdLu9",
   "metadata": {
    "id": "HoxDTA7HdLu9"
   },
   "outputs": [],
   "source": [
    "from datetime import datetime\n",
    "import os.path\n",
    "from os import path\n",
    "\n",
    "output_dir = f\"/content/drive/MyDrive/{output_directory}\" \n",
    "\n",
    "if path.exists(output_dir) == False:\n",
    "  os.mkdir(output_dir)\n",
    "\n",
    "date = datetime.now().strftime(\"%Y_%m_%d-%I:%M:%S_%p\")\n",
    "\n",
    "filename = f\"dataset_{date}.json\"\n",
    "\n",
    "dataset.to_json(f\"{output_dir}/{filename}\")"
   ]
  },
  {
   "cell_type": "code",
   "execution_count": null,
   "id": "QT-Uj4PAdL1q",
   "metadata": {
    "colab": {
     "base_uri": "https://localhost:8080/"
    },
    "id": "QT-Uj4PAdL1q",
    "outputId": "6ef20ae6-accf-4bf5-af31-cf13841f736d"
   },
   "outputs": [
    {
     "name": "stdout",
     "output_type": "stream",
     "text": [
      "/content/drive/MyDrive/structured_artificial/dataset_2022_04_06-10:33:33_PM.json\n"
     ]
    }
   ],
   "source": [
    "!ls {output_dir}/{filename}"
   ]
  },
  {
   "cell_type": "markdown",
   "id": "rdXhtcXQdqyj",
   "metadata": {
    "id": "rdXhtcXQdqyj"
   },
   "source": [
    "Your dataset should now be available in JSON format in your Google Drive. Please consider uploading your dataset for the community of research by requesting inclusion into https://igards.github.io/RPLib/. If interested, please [upload your dataset here.](https://forms.gle/iHyfy5popvzaQ5Jd6) \n",
    "\n",
    "When you are uploading your dataset, you might find the following output useful for documentation purposes."
   ]
  },
  {
   "cell_type": "code",
   "execution_count": null,
   "id": "J9JYBjo67Aul",
   "metadata": {
    "colab": {
     "base_uri": "https://localhost:8080/"
    },
    "id": "J9JYBjo67Aul",
    "outputId": "c78ed8f1-e941-498d-a97c-bcc90571f0aa"
   },
   "outputs": [
    {
     "name": "stdout",
     "output_type": "stream",
     "text": [
      "def example_create3(options):\n",
      "    \"\"\"\n",
      "    Example create function. These functions must return a dominance (D) matrix that is a pandas dataframe. \n",
      "    Options is a dictionary. There is one required key/value which is the number_of_rows_columns. \n",
      "    It may also have additional arguments.\n",
      "    \"\"\"\n",
      "    assert type(options) == dict\n",
      "    D = domplusnoise(options['number_of_rows_columns'],options['percentage'],options['low'],options['high'])\n",
      "    if options['percent_links_to_remove'] > 0:\n",
      "        D = removelinks(D,options['percent_links_to_remove'])\n",
      "    if options['make_unweighted']:\n",
      "        D = unweighted(D)\n",
      "    return D\n",
      "\n"
     ]
    }
   ],
   "source": [
    "print(dataset['Create code'])"
   ]
  },
  {
   "cell_type": "code",
   "execution_count": null,
   "id": "KekzpMaQ7159",
   "metadata": {
    "colab": {
     "base_uri": "https://localhost:8080/"
    },
    "id": "KekzpMaQ7159",
    "outputId": "158b1685-99ec-4ee9-eb73-922171ea9370"
   },
   "outputs": [
    {
     "name": "stdout",
     "output_type": "stream",
     "text": [
      "{\n",
      "    \"high\": 5,\n",
      "    \"low\": 0,\n",
      "    \"make_unweighted\": false,\n",
      "    \"number_matrices\": 30,\n",
      "    \"number_of_rows_columns\": 20,\n",
      "    \"percent_links_to_remove\": 10,\n",
      "    \"percentage\": 90\n",
      "}\n"
     ]
    }
   ],
   "source": [
    "import json\n",
    "print(json.dumps(options, indent=4, sort_keys=True))"
   ]
  },
  {
   "cell_type": "markdown",
   "id": "370FApGzBEk1",
   "metadata": {
    "id": "370FApGzBEk1"
   },
   "source": [
    "### Example: Threshold"
   ]
  },
  {
   "cell_type": "code",
   "execution_count": null,
   "id": "m4xL4JCMBEk2",
   "metadata": {
    "cellView": "form",
    "id": "m4xL4JCMBEk2"
   },
   "outputs": [],
   "source": [
    "#@title Parameters\n",
    "number_matrices =  30#@param {type:\"integer\"}\n",
    "\n",
    "number_of_rows_columns =  20#@param {type:\"integer\"}\n",
    "\n",
    "threshold =  5#@param {type:\"integer\"}\n",
    "\n",
    "num_games =  1000#@param {type:\"integer\"}\n",
    "\n",
    "output_directory = \"structured_artificial\" #@param {type:\"string\"}\n"
   ]
  },
  {
   "cell_type": "markdown",
   "id": "98pZjOXSBEk2",
   "metadata": {
    "id": "98pZjOXSBEk2"
   },
   "source": [
    "#### Creating the matrices"
   ]
  },
  {
   "cell_type": "code",
   "execution_count": null,
   "id": "XEuHYCsqBEk2",
   "metadata": {
    "id": "XEuHYCsqBEk2"
   },
   "outputs": [],
   "source": [
    "options = {\n",
    "        \"number_matrices\":number_matrices,\n",
    "        \"number_of_rows_columns\": number_of_rows_columns,\n",
    "        \"threshold\":threshold,\n",
    "        \"num_games\":num_games\n",
    "}\n",
    "    \n",
    "dataset = create_dataset(example_create,options)"
   ]
  },
  {
   "cell_type": "markdown",
   "id": "8jSymyMOBEk2",
   "metadata": {
    "id": "8jSymyMOBEk2"
   },
   "source": [
    "#### Storing dataset in Google Drive (optional)"
   ]
  },
  {
   "cell_type": "code",
   "execution_count": null,
   "id": "l6-SNWJJBEk2",
   "metadata": {
    "colab": {
     "base_uri": "https://localhost:8080/"
    },
    "id": "l6-SNWJJBEk2",
    "outputId": "74f73ea5-30f8-4b4d-cba4-43d01b02c707"
   },
   "outputs": [
    {
     "name": "stdout",
     "output_type": "stream",
     "text": [
      "Drive already mounted at /content/drive; to attempt to forcibly remount, call drive.mount(\"/content/drive\", force_remount=True).\n"
     ]
    }
   ],
   "source": [
    "from google.colab import drive\n",
    "drive.mount('/content/drive')"
   ]
  },
  {
   "cell_type": "code",
   "execution_count": null,
   "id": "0C6LQJ7oBEk3",
   "metadata": {
    "id": "0C6LQJ7oBEk3"
   },
   "outputs": [],
   "source": [
    "from datetime import datetime\n",
    "import os.path\n",
    "from os import path\n",
    "\n",
    "output_dir = f\"/content/drive/MyDrive/{output_directory}\" \n",
    "\n",
    "if path.exists(output_dir) == False:\n",
    "  os.mkdir(output_dir)\n",
    "\n",
    "date = datetime.now().strftime(\"%Y_%m_%d-%I:%M:%S_%p\")\n",
    "\n",
    "filename = f\"dataset_{date}_{threshold}.json\"\n",
    "\n",
    "dataset.to_json(f\"{output_dir}/{filename}\")"
   ]
  },
  {
   "cell_type": "code",
   "execution_count": null,
   "id": "FAYvIafNBEk3",
   "metadata": {
    "colab": {
     "base_uri": "https://localhost:8080/"
    },
    "id": "FAYvIafNBEk3",
    "outputId": "2a00770f-0d1c-41dc-8119-15ecfc809548"
   },
   "outputs": [
    {
     "name": "stdout",
     "output_type": "stream",
     "text": [
      "/content/drive/MyDrive/structured_artificial/dataset_2022_04_06-10:41:35_PM_5.json\n"
     ]
    }
   ],
   "source": [
    "!ls {output_dir}/{filename}"
   ]
  },
  {
   "cell_type": "markdown",
   "id": "IJ82X2LiBEk3",
   "metadata": {
    "id": "IJ82X2LiBEk3"
   },
   "source": [
    "Your dataset should now be available in JSON format in your Google Drive. Please consider uploading your dataset for the community of research by requesting inclusion into https://igards.github.io/RPLib/. If interested, please [upload your dataset here.](https://forms.gle/iHyfy5popvzaQ5Jd6) \n",
    "\n",
    "When you are uploading your dataset, you might find the following output useful for documentation purposes."
   ]
  },
  {
   "cell_type": "code",
   "execution_count": null,
   "id": "W1yiuNnKBEk3",
   "metadata": {
    "colab": {
     "base_uri": "https://localhost:8080/"
    },
    "id": "W1yiuNnKBEk3",
    "outputId": "ac9a3674-e58e-45f4-8988-d5f2f6cfb654"
   },
   "outputs": [
    {
     "name": "stdout",
     "output_type": "stream",
     "text": [
      "def example_create(options=example_get_create_options()):\n",
      "    \"\"\"\n",
      "    Example create function. These functions must return a dominance (D) matrix that is a pandas dataframe. \n",
      "    Options is a dictionary. There is one required key/value which is the number_of_rows_columns. \n",
      "    It may also have additional arguments.\n",
      "    \"\"\"\n",
      "    assert type(options) == dict\n",
      "    r = pd.Series(np.arange(options['number_of_rows_columns'],0,-1))\n",
      "\n",
      "    D = domfromranking(options['number_of_rows_columns'],r,options['num_games'],\n",
      "                              upset_func=lambda r1,r2: (abs(r1-r2) <= options['threshold']) and np.random.uniform() > 0.5)\n",
      "    return D\n",
      "\n"
     ]
    }
   ],
   "source": [
    "print(dataset['Create code'])"
   ]
  },
  {
   "cell_type": "code",
   "execution_count": null,
   "id": "0whPKphdBEk3",
   "metadata": {
    "colab": {
     "base_uri": "https://localhost:8080/"
    },
    "id": "0whPKphdBEk3",
    "outputId": "b077ff2b-237f-450a-966d-efc9380c31e1"
   },
   "outputs": [
    {
     "name": "stdout",
     "output_type": "stream",
     "text": [
      "{\n",
      "    \"num_games\": 1000,\n",
      "    \"number_matrices\": 30,\n",
      "    \"number_of_rows_columns\": 20,\n",
      "    \"threshold\": 5\n",
      "}\n"
     ]
    }
   ],
   "source": [
    "import json\n",
    "print(json.dumps(options, indent=4, sort_keys=True))"
   ]
  },
  {
   "cell_type": "code",
   "execution_count": null,
   "id": "9eUyvZTmCQ6V",
   "metadata": {
    "id": "9eUyvZTmCQ6V"
   },
   "outputs": [],
   "source": []
  }
 ],
 "metadata": {
  "colab": {
   "collapsed_sections": [],
   "name": "structured_artificial.ipynb",
   "provenance": [],
   "toc_visible": true
  },
  "kernelspec": {
   "display_name": "Python 3 (ipykernel)",
   "language": "python",
   "name": "python3"
  },
  "language_info": {
   "codemirror_mode": {
    "name": "ipython",
    "version": 3
   },
   "file_extension": ".py",
   "mimetype": "text/x-python",
   "name": "python",
   "nbconvert_exporter": "python",
   "pygments_lexer": "ipython3",
   "version": "3.9.7"
  }
 },
 "nbformat": 4,
 "nbformat_minor": 5
}
